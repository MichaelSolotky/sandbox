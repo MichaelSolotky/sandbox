{
 "cells": [
  {
   "cell_type": "markdown",
   "metadata": {},
   "source": [
    "# kNN на mnist"
   ]
  },
  {
   "cell_type": "code",
   "execution_count": 1,
   "metadata": {
    "collapsed": true
   },
   "outputs": [],
   "source": [
    "from nearest_neighbors import KNNClassifier\n",
    "import cross_validation"
   ]
  },
  {
   "cell_type": "code",
   "execution_count": 2,
   "metadata": {
    "collapsed": true
   },
   "outputs": [],
   "source": [
    "from sklearn.datasets import fetch_mldata\n",
    "import matplotlib.pyplot as plt\n",
    "%matplotlib inline\n",
    "from sklearn.model_selection import train_test_split\n",
    "import numpy as np\n",
    "from scipy.sparse import *\n",
    "from sklearn.neighbors import KNeighborsClassifier\n",
    "from pandas import DataFrame\n",
    "from sklearn.metrics import confusion_matrix\n",
    "import itertools\n",
    "from scipy.ndimage import interpolation\n",
    "from scipy.ndimage.filters import gaussian_filter\n",
    "from skimage.transform import rotate"
   ]
  },
  {
   "cell_type": "code",
   "execution_count": 3,
   "metadata": {
    "collapsed": true
   },
   "outputs": [],
   "source": [
    "mnist_dataset = fetch_mldata('MNIST original')"
   ]
  },
  {
   "cell_type": "code",
   "execution_count": 4,
   "metadata": {
    "collapsed": true
   },
   "outputs": [],
   "source": [
    "X_train = mnist_dataset.data[:60000]\n",
    "X_test = mnist_dataset.data[60000:]\n",
    "y_train = mnist_dataset.target[:60000]\n",
    "y_test = mnist_dataset.target[60000:]"
   ]
  },
  {
   "cell_type": "markdown",
   "metadata": {},
   "source": [
    "### Эксперимент 1\n",
    "#### Параметры:\n",
    "- Количество ближайших соседей: 5\n",
    "- Метртика: евклидова\n",
    "- Количество признаков: 10, 20, 100\n",
    "- Стратегия: my own, brute, kd-tree, ball-tree\n",
    "\n",
    "#### Измерить время работы"
   ]
  },
  {
   "cell_type": "code",
   "execution_count": 5,
   "metadata": {
    "collapsed": true
   },
   "outputs": [],
   "source": [
    "my_own = KNNClassifier(k=5, strategy='my_own', metric='euclidean', weights=False)\n",
    "brute = KNNClassifier(k=5, strategy='brute', metric='euclidean', weights=False)\n",
    "kd_tree = KNNClassifier(k=5, strategy='kd_tree', metric='euclidean', weights=False)\n",
    "ball_tree = KNNClassifier(k=5, strategy='ball_tree', metric='euclidean', weights=False)"
   ]
  },
  {
   "cell_type": "code",
   "execution_count": 6,
   "metadata": {
    "collapsed": true
   },
   "outputs": [],
   "source": [
    "feature_numbers = np.arange(28 * 28)\n",
    "np.random.shuffle(feature_numbers)"
   ]
  },
  {
   "cell_type": "code",
   "execution_count": 7,
   "metadata": {
    "collapsed": true
   },
   "outputs": [],
   "source": [
    "my_own.fit(X_train[:, feature_numbers[:10]], y_train)\n",
    "brute.fit(X_train[:, feature_numbers[:10]], y_train)\n",
    "kd_tree.fit(X_train[:, feature_numbers[:10]], y_train)\n",
    "ball_tree.fit(X_train[:, feature_numbers[:10]], y_train)"
   ]
  },
  {
   "cell_type": "markdown",
   "metadata": {},
   "source": [
    "#### Запустим все реализации для 10 признаков"
   ]
  },
  {
   "cell_type": "code",
   "execution_count": 8,
   "metadata": {},
   "outputs": [
    {
     "name": "stdout",
     "output_type": "stream",
     "text": [
      "CPU times: user 775 ms, sys: 144 ms, total: 918 ms\n",
      "Wall time: 29.1 s\n"
     ]
    },
    {
     "data": {
      "text/plain": [
       "array([0, 0, 0, ..., 0, 0, 0])"
      ]
     },
     "execution_count": 8,
     "metadata": {},
     "output_type": "execute_result"
    }
   ],
   "source": [
    "%%time\n",
    "my_own.predict(X_test[:, feature_numbers[:10]])"
   ]
  },
  {
   "cell_type": "code",
   "execution_count": 9,
   "metadata": {},
   "outputs": [
    {
     "name": "stdout",
     "output_type": "stream",
     "text": [
      "CPU times: user 25.3 s, sys: 16.3 s, total: 41.5 s\n",
      "Wall time: 1min 8s\n"
     ]
    },
    {
     "data": {
      "text/plain": [
       "array([7, 0, 2, ..., 2, 1, 6])"
      ]
     },
     "execution_count": 9,
     "metadata": {},
     "output_type": "execute_result"
    }
   ],
   "source": [
    "%%time\n",
    "brute.predict(X_test[:, feature_numbers[:10]])"
   ]
  },
  {
   "cell_type": "code",
   "execution_count": 10,
   "metadata": {},
   "outputs": [
    {
     "name": "stdout",
     "output_type": "stream",
     "text": [
      "CPU times: user 4.1 s, sys: 42.8 ms, total: 4.14 s\n",
      "Wall time: 2.29 s\n"
     ]
    },
    {
     "data": {
      "text/plain": [
       "array([7, 0, 2, ..., 2, 1, 6])"
      ]
     },
     "execution_count": 10,
     "metadata": {},
     "output_type": "execute_result"
    }
   ],
   "source": [
    "%%time\n",
    "kd_tree.predict(X_test[:, feature_numbers[:10]])"
   ]
  },
  {
   "cell_type": "code",
   "execution_count": 11,
   "metadata": {},
   "outputs": [
    {
     "name": "stdout",
     "output_type": "stream",
     "text": [
      "CPU times: user 28 s, sys: 32.2 ms, total: 28 s\n",
      "Wall time: 9.93 s\n"
     ]
    },
    {
     "data": {
      "text/plain": [
       "array([7, 0, 2, ..., 2, 1, 6])"
      ]
     },
     "execution_count": 11,
     "metadata": {},
     "output_type": "execute_result"
    }
   ],
   "source": [
    "%%time\n",
    "ball_tree.predict(X_test[:, feature_numbers[:10]])"
   ]
  },
  {
   "cell_type": "markdown",
   "metadata": {},
   "source": [
    "#### Заново обучим и запустим все реализации для 20 признаков"
   ]
  },
  {
   "cell_type": "code",
   "execution_count": 12,
   "metadata": {
    "collapsed": true
   },
   "outputs": [],
   "source": [
    "my_own.fit(X_train[:, feature_numbers[:20]], y_train)\n",
    "brute.fit(X_train[:, feature_numbers[:20]], y_train)\n",
    "kd_tree.fit(X_train[:, feature_numbers[:20]], y_train)\n",
    "ball_tree.fit(X_train[:, feature_numbers[:20]], y_train)"
   ]
  },
  {
   "cell_type": "code",
   "execution_count": 13,
   "metadata": {},
   "outputs": [
    {
     "name": "stdout",
     "output_type": "stream",
     "text": [
      "CPU times: user 38.2 s, sys: 11.9 s, total: 50.1 s\n",
      "Wall time: 34.9 s\n"
     ]
    },
    {
     "data": {
      "text/plain": [
       "array([0, 8, 2, ..., 9, 1, 6])"
      ]
     },
     "execution_count": 13,
     "metadata": {},
     "output_type": "execute_result"
    }
   ],
   "source": [
    "%%time\n",
    "my_own.predict(X_test[:, feature_numbers[:20]])"
   ]
  },
  {
   "cell_type": "code",
   "execution_count": 14,
   "metadata": {},
   "outputs": [
    {
     "name": "stdout",
     "output_type": "stream",
     "text": [
      "CPU times: user 24.5 s, sys: 16.3 s, total: 40.8 s\n",
      "Wall time: 1min 6s\n"
     ]
    },
    {
     "data": {
      "text/plain": [
       "array([0, 8, 2, ..., 9, 1, 6])"
      ]
     },
     "execution_count": 14,
     "metadata": {},
     "output_type": "execute_result"
    }
   ],
   "source": [
    "%%time\n",
    "brute.predict(X_test[:, feature_numbers[:20]])"
   ]
  },
  {
   "cell_type": "code",
   "execution_count": 15,
   "metadata": {},
   "outputs": [
    {
     "name": "stdout",
     "output_type": "stream",
     "text": [
      "CPU times: user 13.3 s, sys: 37.9 ms, total: 13.3 s\n",
      "Wall time: 5.09 s\n"
     ]
    },
    {
     "data": {
      "text/plain": [
       "array([0, 8, 2, ..., 9, 1, 6])"
      ]
     },
     "execution_count": 15,
     "metadata": {},
     "output_type": "execute_result"
    }
   ],
   "source": [
    "%%time\n",
    "kd_tree.predict(X_test[:, feature_numbers[:20]])"
   ]
  },
  {
   "cell_type": "code",
   "execution_count": 16,
   "metadata": {},
   "outputs": [
    {
     "name": "stdout",
     "output_type": "stream",
     "text": [
      "CPU times: user 1min 49s, sys: 0 ns, total: 1min 49s\n",
      "Wall time: 32.5 s\n"
     ]
    },
    {
     "data": {
      "text/plain": [
       "array([0, 8, 2, ..., 9, 1, 6])"
      ]
     },
     "execution_count": 16,
     "metadata": {},
     "output_type": "execute_result"
    }
   ],
   "source": [
    "%%time\n",
    "ball_tree.predict(X_test[:, feature_numbers[:20]])"
   ]
  },
  {
   "cell_type": "markdown",
   "metadata": {},
   "source": [
    "#### Заново обучим и запустим все реализации для 100 признаков"
   ]
  },
  {
   "cell_type": "code",
   "execution_count": 17,
   "metadata": {
    "collapsed": true
   },
   "outputs": [],
   "source": [
    "my_own.fit(X_train[:, feature_numbers[:100]], y_train)\n",
    "brute.fit(X_train[:, feature_numbers[:100]], y_train)\n",
    "kd_tree.fit(X_train[:, feature_numbers[:100]], y_train)\n",
    "ball_tree.fit(X_train[:, feature_numbers[:100]], y_train)"
   ]
  },
  {
   "cell_type": "code",
   "execution_count": 18,
   "metadata": {},
   "outputs": [
    {
     "name": "stdout",
     "output_type": "stream",
     "text": [
      "CPU times: user 1min 8s, sys: 14.8 s, total: 1min 22s\n",
      "Wall time: 44.9 s\n"
     ]
    },
    {
     "data": {
      "text/plain": [
       "array([7, 8, 6, ..., 9, 1, 6])"
      ]
     },
     "execution_count": 18,
     "metadata": {},
     "output_type": "execute_result"
    }
   ],
   "source": [
    "%%time\n",
    "my_own.predict(X_test[:, feature_numbers[:100]])"
   ]
  },
  {
   "cell_type": "code",
   "execution_count": 19,
   "metadata": {},
   "outputs": [
    {
     "name": "stdout",
     "output_type": "stream",
     "text": [
      "CPU times: user 27.4 s, sys: 18.1 s, total: 45.5 s\n",
      "Wall time: 1min 18s\n"
     ]
    },
    {
     "data": {
      "text/plain": [
       "array([7, 8, 6, ..., 9, 1, 6])"
      ]
     },
     "execution_count": 19,
     "metadata": {},
     "output_type": "execute_result"
    }
   ],
   "source": [
    "%%time\n",
    "brute.predict(X_test[:, feature_numbers[:100]])"
   ]
  },
  {
   "cell_type": "code",
   "execution_count": 20,
   "metadata": {},
   "outputs": [
    {
     "name": "stdout",
     "output_type": "stream",
     "text": [
      "CPU times: user 5min 47s, sys: 726 ms, total: 5min 48s\n",
      "Wall time: 1min 52s\n"
     ]
    },
    {
     "data": {
      "text/plain": [
       "array([7, 8, 6, ..., 9, 1, 6])"
      ]
     },
     "execution_count": 20,
     "metadata": {},
     "output_type": "execute_result"
    }
   ],
   "source": [
    "%%time\n",
    "kd_tree.predict(X_test[:, feature_numbers[:100]])"
   ]
  },
  {
   "cell_type": "code",
   "execution_count": 21,
   "metadata": {},
   "outputs": [
    {
     "name": "stdout",
     "output_type": "stream",
     "text": [
      "CPU times: user 6min 33s, sys: 997 ms, total: 6min 34s\n",
      "Wall time: 2min 14s\n"
     ]
    },
    {
     "data": {
      "text/plain": [
       "array([7, 8, 6, ..., 9, 1, 6])"
      ]
     },
     "execution_count": 21,
     "metadata": {},
     "output_type": "execute_result"
    }
   ],
   "source": [
    "%%time\n",
    "ball_tree.predict(X_test[:, feature_numbers[:100]])"
   ]
  },
  {
   "cell_type": "markdown",
   "metadata": {},
   "source": [
    "#### Выводы:\n",
    "- видно, что при малом числе признаков (10, 20) kd-tree и ball-tree работают существенно быстрее, чем brute и my own.\n",
    "- на малом числе признаков ball-tree работал примерно в 3-5 раз дольше\n",
    "- как только размерность пространства достаточно большая (100 признаков) kd-tree и ball-tree работают примерно одинаково и долго даже по сравнению с brute\n",
    "- моя реализация постоянно была лучше brute"
   ]
  },
  {
   "cell_type": "markdown",
   "metadata": {},
   "source": [
    "### Эксперимент 2\n",
    "#### Параметры:\n",
    "- Количество разбиений: 3\n",
    "- Метртика: евклидова, косинусная\n",
    "- Количество соседей: от 1 до 10\n",
    "- Взвешивание: нет\n",
    "\n",
    "#### Измерить:\n",
    "- качество на кросс-валидации\n",
    "- время работы (вне зависимости от k)"
   ]
  },
  {
   "cell_type": "markdown",
   "metadata": {},
   "source": [
    "#### Время работы для евклидовой метрики:"
   ]
  },
  {
   "cell_type": "code",
   "execution_count": 5,
   "metadata": {},
   "outputs": [
    {
     "name": "stdout",
     "output_type": "stream",
     "text": [
      "CPU times: user 22min 29s, sys: 3min 11s, total: 25min 40s\n",
      "Wall time: 9min 32s\n"
     ]
    }
   ],
   "source": [
    "%%time\n",
    "cv = cross_validation.kfold(X_train.shape[0], n_folds=3)\n",
    "score_eucl = cross_validation.knn_cross_val_score(X=X_train, y=y_train, k_list=np.arange(10) + 1, cv=cv,\n",
    "                                                  strategy='my_own', metric='euclidean', weights=False)"
   ]
  },
  {
   "cell_type": "markdown",
   "metadata": {},
   "source": [
    "#### Время работы для косинусной метрики:"
   ]
  },
  {
   "cell_type": "code",
   "execution_count": 6,
   "metadata": {},
   "outputs": [
    {
     "name": "stdout",
     "output_type": "stream",
     "text": [
      "CPU times: user 23min 1s, sys: 2min 16s, total: 25min 17s\n",
      "Wall time: 8min 29s\n"
     ]
    }
   ],
   "source": [
    "%%time\n",
    "score_cos = cross_validation.knn_cross_val_score(X=X_train, y=y_train, k_list=np.arange(10) + 1, cv=cv,\n",
    "                                                 strategy='my_own', metric='cosine', weights=False)"
   ]
  },
  {
   "cell_type": "markdown",
   "metadata": {},
   "source": [
    "#### Среднее качество на 3 фолдах:"
   ]
  },
  {
   "cell_type": "code",
   "execution_count": 8,
   "metadata": {},
   "outputs": [
    {
     "data": {
      "image/png": "[encoded data removed]",
      "text/plain": [
       "<matplotlib.figure.Figure at 0x7f5a183ae048>"
      ]
     },
     "metadata": {},
     "output_type": "display_data"
    }
   ],
   "source": [
    "eucl_accuracy = np.array(DataFrame(score_eucl).mean(axis=0))\n",
    "cos_accuracy = np.array(DataFrame(score_cos).mean(axis=0))\n",
    "k = np.arange(10) + 1\n",
    "\n",
    "fig, ax = plt.subplots()\n",
    "fig.set_figwidth(10)\n",
    "fig.set_figheight(5)\n",
    "\n",
    "plt.plot(k, eucl_accuracy, 'r', label='euclidean metric', linewidth=4)\n",
    "plt.plot(k, cos_accuracy, 'g', label='cosine metric', linewidth=4)\n",
    "plt.axis([1, 10, 0.962, 0.975])\n",
    "plt.grid()\n",
    "\n",
    "plt.xlabel('Number of nearest neighbors', fontsize=15)\n",
    "plt.ylabel('Accuracy on cross-validation', fontsize=15)\n",
    "plt.title('Metric selection for kNN', fontsize=16)\n",
    "\n",
    "plt.legend()\n",
    "plt.savefig('exp2.pdf')\n",
    "plt.show()"
   ]
  },
  {
   "cell_type": "markdown",
   "metadata": {},
   "source": [
    "#### Выводы:\n",
    "- Время работы для косинусной метрики меньше, чем для евклидовой, хотя и не сильно\n",
    "- Косинусная метрика даёт чуть-чуть лучшую accuracy, чем евклидова\n",
    "- Вне зависимости от метрики оптимальные k = 1 и k = 3\n",
    "- Самый оптимальный вариант k = 3 в комбинации с косинусной метрикой"
   ]
  },
  {
   "cell_type": "markdown",
   "metadata": {},
   "source": [
    "### Эксперимент 3\n",
    "#### Параметры:\n",
    "- Количество разбиений: 3\n",
    "- Метртика: евклидова, косинусная\n",
    "- Количество соседей: от 1 до 10\n",
    "- Взвешивание: да, нет\n",
    "\n",
    "#### Сравнить взвешенный метод с методом без учёта весов соседей"
   ]
  },
  {
   "cell_type": "code",
   "execution_count": 9,
   "metadata": {
    "collapsed": true
   },
   "outputs": [],
   "source": [
    "cv = cross_validation.kfold(X_train.shape[0], n_folds=3)\n",
    "score_eucl_weighted = cross_validation.knn_cross_val_score(X=X_train, y=y_train, k_list=np.arange(10) + 1, cv=cv,\n",
    "                                                           strategy='my_own', metric='euclidean', weights=True)"
   ]
  },
  {
   "cell_type": "code",
   "execution_count": 10,
   "metadata": {
    "collapsed": true
   },
   "outputs": [],
   "source": [
    "cv = cross_validation.kfold(X_train.shape[0], n_folds=3)\n",
    "score_cos_weighted = cross_validation.knn_cross_val_score(X=X_train, y=y_train, k_list=np.arange(10) + 1, cv=cv,\n",
    "                                                          strategy='my_own', metric='cosine', weights=True)"
   ]
  },
  {
   "cell_type": "code",
   "execution_count": 11,
   "metadata": {},
   "outputs": [
    {
     "data": {
      "image/png": "[encoded data removed]",
      "text/plain": [
       "<matplotlib.figure.Figure at 0x7f5a1805e5c0>"
      ]
     },
     "metadata": {},
     "output_type": "display_data"
    }
   ],
   "source": [
    "eucl_accuracy = np.array(DataFrame(score_eucl).mean(axis=0))\n",
    "eucl_accuracy_weighted = np.array(DataFrame(score_eucl_weighted).mean(axis=0))\n",
    "cos_accuracy = np.array(DataFrame(score_cos).mean(axis=0))\n",
    "cos_accuracy_weighted = np.array(DataFrame(score_cos_weighted).mean(axis=0))\n",
    "\n",
    "k = np.arange(10) + 1\n",
    "\n",
    "fig, ax = plt.subplots()\n",
    "fig.set_figwidth(9)\n",
    "fig.set_figheight(5)\n",
    "\n",
    "plt.plot(k, eucl_accuracy, 'r', label='euclidean metric', linewidth=4)\n",
    "plt.plot(k, eucl_accuracy_weighted, 'b', label='euclidean metric, weighted method', linewidth=4)\n",
    "plt.plot(k, cos_accuracy, 'g', label='cosine metric', linewidth=4)\n",
    "plt.plot(k, cos_accuracy_weighted, 'y', label='cosine metric, weighted method', linewidth=4)\n",
    "plt.axis([1, 10, 0.961, 0.976])\n",
    "plt.legend()\n",
    "\n",
    "plt.xlabel('number of nearest neighbors', fontsize=15)\n",
    "plt.ylabel('accuracy on cross-validation', fontsize=15)\n",
    "plt.title('Weights and metric selection for kNN', fontsize=16)\n",
    "plt.grid(True)\n",
    "plt.savefig('exp3.pdf')\n",
    "plt.show()"
   ]
  },
  {
   "cell_type": "markdown",
   "metadata": {},
   "source": [
    "#### Выводы:\n",
    "- Самый оптимальный набор параметров на кросс-валидации: k = 4, косинусная метрика, взвешенный метод"
   ]
  },
  {
   "cell_type": "markdown",
   "metadata": {},
   "source": [
    "### Эксперимент 4"
   ]
  },
  {
   "cell_type": "code",
   "execution_count": 12,
   "metadata": {
    "collapsed": true
   },
   "outputs": [],
   "source": [
    "my_own = KNNClassifier(k=4, strategy='my_own', weights=True, metric='cosine')\n",
    "my_own.fit(X_train, y_train)\n",
    "y_predicted = my_own.predict(X_test)\n",
    "test_accuracy = np.sum(y_predicted == y_test) / y_test.size"
   ]
  },
  {
   "cell_type": "markdown",
   "metadata": {},
   "source": [
    "#### Качество на отложенном test"
   ]
  },
  {
   "cell_type": "code",
   "execution_count": 13,
   "metadata": {},
   "outputs": [
    {
     "data": {
      "text/plain": [
       "0.97519999999999996"
      ]
     },
     "execution_count": 13,
     "metadata": {},
     "output_type": "execute_result"
    }
   ],
   "source": [
    "test_accuracy"
   ]
  },
  {
   "cell_type": "markdown",
   "metadata": {},
   "source": [
    "#### Качество на кросс-валидации"
   ]
  },
  {
   "cell_type": "code",
   "execution_count": 14,
   "metadata": {},
   "outputs": [
    {
     "data": {
      "text/plain": [
       "0.97546559158308932"
      ]
     },
     "execution_count": 14,
     "metadata": {},
     "output_type": "execute_result"
    }
   ],
   "source": [
    "cos_accuracy_weighted[3]"
   ]
  },
  {
   "cell_type": "markdown",
   "metadata": {},
   "source": [
    "#### По сравнению с результатами http://yann.lecun.com/exdb/mnist/ моя реализация обошла\n",
    "- K-nearest-neighbors, Euclidean (L2), error = 5.0, LeCun et al. 1998\n",
    "- K-nearest-neighbors, Euclidean (L2), error = 3.09, Kenneth Wilder, U. Chicago\n",
    "- K-nearest-neighbors, L3, error = 2.83, Kenneth Wilder, U. Chicago\n",
    "- K-nearest-neighbors, Euclidean (L2) with deskewing, error = 2.4, LeCun et al. 1998\n",
    "\n",
    "#### и далека от лучших реализаций с ошибкой меньше 1%"
   ]
  },
  {
   "cell_type": "code",
   "execution_count": 15,
   "metadata": {},
   "outputs": [
    {
     "data": {
      "text/plain": [
       "2.4800000000000044"
      ]
     },
     "execution_count": 15,
     "metadata": {},
     "output_type": "execute_result"
    }
   ],
   "source": [
    "error = (1 - test_accuracy) * 100\n",
    "error"
   ]
  },
  {
   "cell_type": "code",
   "execution_count": 21,
   "metadata": {},
   "outputs": [
    {
     "data": {
      "image/png": "[encoded data removed]",
      "text/plain": [
       "<matplotlib.figure.Figure at 0x7f5a17c092e8>"
      ]
     },
     "metadata": {},
     "output_type": "display_data"
    }
   ],
   "source": [
    "cnf_matrix = confusion_matrix(y_test, y_predicted)\n",
    "\n",
    "fig, ax = plt.subplots()\n",
    "fig.set_figwidth(6)\n",
    "fig.set_figheight(6)\n",
    "\n",
    "plt.imshow(cnf_matrix, interpolation='nearest', cmap='Greys')\n",
    "plt.title('Confusion matrix', fontsize=16)\n",
    "plt.colorbar()\n",
    "\n",
    "plt.xticks(np.linspace(0, 9, 10), fontsize=15)\n",
    "plt.yticks(np.linspace(0, 9, 10), fontsize=15)\n",
    "\n",
    "fmt = 'd'\n",
    "thresh = cnf_matrix.max() / 2.\n",
    "for i, j in itertools.product(np.arange(cnf_matrix.shape[0]), np.arange(cnf_matrix.shape[1])):\n",
    "    plt.text(j, i, format(cnf_matrix[i, j], fmt),\n",
    "             horizontalalignment=\"center\",\n",
    "             color=\"white\" if cnf_matrix[i, j] > thresh else \"black\")\n",
    "\n",
    "plt.tight_layout()\n",
    "plt.xlabel('Predicted label', fontsize=12)\n",
    "plt.ylabel('True label')\n",
    "\n",
    "plt.savefig('conf_matrix.pdf')\n",
    "plt.show()"
   ]
  },
  {
   "cell_type": "markdown",
   "metadata": {},
   "source": [
    "#### Шаблон для confusion matrix взят отсюда http://scikit-learn.org/stable/auto_examples/model_selection/plot_confusion_matrix.html#sphx-glr-auto-examples-model-selection-plot-confusion-matrix-py"
   ]
  },
  {
   "cell_type": "code",
   "execution_count": 35,
   "metadata": {
    "collapsed": true
   },
   "outputs": [],
   "source": [
    "def vis_digit(digit):\n",
    "    plt.imshow(digit.reshape((28, 28)), cmap='Greys')"
   ]
  },
  {
   "cell_type": "code",
   "execution_count": 33,
   "metadata": {
    "collapsed": true
   },
   "outputs": [],
   "source": [
    "mask1 = (y_test == 4) * (y_predicted == 9)"
   ]
  },
  {
   "cell_type": "code",
   "execution_count": 79,
   "metadata": {},
   "outputs": [
    {
     "data": {
      "image/png": "[encoded data removed]",
      "text/plain": [
       "<matplotlib.figure.Figure at 0x7f5a166a1048>"
      ]
     },
     "metadata": {},
     "output_type": "display_data"
    }
   ],
   "source": [
    "num_of_digits = 25\n",
    "fig, ax = plt.subplots(5, 5, figsize=(25, 5))\n",
    "\n",
    "for i in range(num_of_digits):\n",
    "    ax[i // 5, i % 5].imshow(X_test[mask1][i].reshape((28, 28)), cmap='Greys')\n",
    "\n",
    "fig.set_figwidth(20)\n",
    "fig.set_figheight(20)\n",
    "\n",
    "plt.savefig('digits_1.pdf')\n",
    "plt.show()"
   ]
  },
  {
   "cell_type": "code",
   "execution_count": 78,
   "metadata": {},
   "outputs": [
    {
     "data": {
      "image/png": "[encoded data removed]",
      "text/plain": [
       "<matplotlib.figure.Figure at 0x7f5a166af400>"
      ]
     },
     "metadata": {},
     "output_type": "display_data"
    }
   ],
   "source": [
    "mask = (y_test == 3) * (y_predicted == 8)\n",
    "num_of_digits = np.sum(mask)\n",
    "fig, ax = plt.subplots(3, 3, figsize=(25, 5))\n",
    "\n",
    "for i in range(num_of_digits):\n",
    "    ax[i // 3, i % 3].imshow(X_test[mask][i].reshape((28, 28)), cmap='Greys')\n",
    "\n",
    "fig.set_figwidth(20)\n",
    "fig.set_figheight(15)\n",
    "\n",
    "plt.savefig('digits_2.pdf')\n",
    "plt.show()"
   ]
  },
  {
   "cell_type": "markdown",
   "metadata": {},
   "source": [
    "#### Хорошо бы как-то разрывы линий учитывать"
   ]
  },
  {
   "cell_type": "markdown",
   "metadata": {},
   "source": [
    "### Эксперимент 5"
   ]
  },
  {
   "cell_type": "markdown",
   "metadata": {
    "collapsed": true
   },
   "source": [
    "#### Параметры:\n",
    "- Величина поворота: 5, 10, 15 (в каждую из двух сторон)\n",
    "- Величина смещения: 1, 2, 3 пикселя (по каждой из четырёх размерностей)\n",
    "- Дисперсия фильтра Гаусса: 0.5, 1, 1.5\n",
    "\n",
    "#### Получить дополнительные вариации обучающей выборки"
   ]
  },
  {
   "cell_type": "markdown",
   "metadata": {},
   "source": [
    "#### Попробуем поварьировать только 1 параметр"
   ]
  },
  {
   "cell_type": "markdown",
   "metadata": {},
   "source": [
    "#### Повороты:"
   ]
  },
  {
   "cell_type": "code",
   "execution_count": 5,
   "metadata": {
    "collapsed": true
   },
   "outputs": [],
   "source": [
    "def my_rotate(arr, angle):\n",
    "    return rotate(arr.reshape((28, 28)), angle=angle)[:784].reshape(784)"
   ]
  },
  {
   "cell_type": "code",
   "execution_count": 6,
   "metadata": {
    "collapsed": true
   },
   "outputs": [],
   "source": [
    "cv = cross_validation.kfold(X_train.shape[0], n_folds=3)"
   ]
  },
  {
   "cell_type": "code",
   "execution_count": 7,
   "metadata": {
    "collapsed": true
   },
   "outputs": [],
   "source": [
    "rotations = [5, -5, 10, -10, 15, -15]"
   ]
  },
  {
   "cell_type": "code",
   "execution_count": 10,
   "metadata": {
    "collapsed": true
   },
   "outputs": [],
   "source": [
    "cross_val_rotations = np.empty((len(rotations), len(cv)), dtype=float)\n",
    "for rotation_num, rotation in enumerate(rotations):\n",
    "    for split_num, split in enumerate(cv):\n",
    "        my_own = KNNClassifier()\n",
    "        my_own.fit(X_train[split[0]], y_train[split[0]])\n",
    "        kneighbors = my_own.find_kneighbors(X_train[split[1]])\n",
    "    \n",
    "        my_own = KNNClassifier()\n",
    "        X_train_rotated = np.apply_along_axis(func1d=my_rotate, axis=1, arr=X_train[split[0]], angle=rotation)\n",
    "        my_own.fit(X_train_rotated, y_train[split[0]])\n",
    "        kneighbors_last = my_own.find_kneighbors(X_train[split[1]])\n",
    "        kneighbors = (np.hstack((kneighbors[0], kneighbors_last[0])),\n",
    "                      np.hstack((kneighbors[1], kneighbors_last[1])))\n",
    "        nearest_neighbors_pos = np.argpartition(kneighbors[0], np.arange(my_own.k), axis=1)[:, :my_own.k]\n",
    "        indices = np.where((nearest_neighbors_pos == nearest_neighbors_pos))\n",
    "        indices = (indices[0], nearest_neighbors_pos.ravel())\n",
    "        distances = kneighbors[0][indices].reshape(-1, my_own.k)\n",
    "        indices = kneighbors[1][indices].reshape(-1, my_own.k)\n",
    "        y_predicted = cross_validation.cross_val_predict(knn_classifier=my_own,\n",
    "                                                         num_of_classes=10,\n",
    "                                                         kneighbors=(distances, indices))\n",
    "        cross_val_rotations[rotation_num][split_num] = np.mean(y_predicted == y_train[split[1]])"
   ]
  },
  {
   "cell_type": "markdown",
   "metadata": {},
   "source": [
    "#### Сглаживание:"
   ]
  },
  {
   "cell_type": "code",
   "execution_count": 11,
   "metadata": {
    "collapsed": true
   },
   "outputs": [],
   "source": [
    "smooths = np.sqrt(np.array([0.5, 1, 1.5]))"
   ]
  },
  {
   "cell_type": "code",
   "execution_count": 12,
   "metadata": {
    "collapsed": true
   },
   "outputs": [],
   "source": [
    "cross_val_gaussian = np.empty((len(smooths), len(cv)), dtype=float)\n",
    "for smooth_num, smooth in enumerate(smooths):\n",
    "    for split_num, split in enumerate(cv):\n",
    "        my_own = KNNClassifier()\n",
    "        my_own.fit(X_train[split[0]], y_train[split[0]])\n",
    "        kneighbors = my_own.find_kneighbors(X_train[split[1]])\n",
    "\n",
    "        my_own = KNNClassifier()\n",
    "        X_train_smoothed = np.apply_along_axis(func1d=gaussian_filter, axis=1, arr=X_train[split[0]], sigma=smooth)\n",
    "        my_own.fit(X_train_smoothed, y_train[split[0]])\n",
    "        kneighbors_last = my_own.find_kneighbors(X_train[split[1]])\n",
    "        kneighbors = (np.hstack((kneighbors[0], kneighbors_last[0])),\n",
    "                      np.hstack((kneighbors[1], kneighbors_last[1])))\n",
    "        nearest_neighbors_pos = np.argpartition(kneighbors[0], np.arange(my_own.k), axis=1)[:, :my_own.k]\n",
    "        indices = np.where((nearest_neighbors_pos == nearest_neighbors_pos))\n",
    "        indices = (indices[0], nearest_neighbors_pos.ravel())\n",
    "        distances = kneighbors[0][indices].reshape(-1, my_own.k)\n",
    "        indices = kneighbors[1][indices].reshape(-1, my_own.k)\n",
    "        y_predicted = cross_validation.cross_val_predict(knn_classifier=my_own,\n",
    "                                                         num_of_classes=10,\n",
    "                                                         kneighbors=(distances, indices))\n",
    "        cross_val_gaussian[smooth_num][split_num] = np.mean(y_predicted == y_train[split[1]])"
   ]
  },
  {
   "cell_type": "markdown",
   "metadata": {},
   "source": [
    "#### Сдвиги:"
   ]
  },
  {
   "cell_type": "code",
   "execution_count": 13,
   "metadata": {},
   "outputs": [
    {
     "data": {
      "text/plain": [
       "array([[ 1,  0],\n",
       "       [ 0,  1],\n",
       "       [-1,  0],\n",
       "       [ 0, -1],\n",
       "       [ 2,  0],\n",
       "       [ 0,  2],\n",
       "       [-2,  0],\n",
       "       [ 0, -2],\n",
       "       [ 3,  0],\n",
       "       [ 0,  3],\n",
       "       [-3,  0],\n",
       "       [ 0, -3]])"
      ]
     },
     "execution_count": 13,
     "metadata": {},
     "output_type": "execute_result"
    }
   ],
   "source": [
    "directions = np.array([[1, 0], [0, 1], [-1, 0], [0, -1]])\n",
    "shift_amount = np.arange(3) + 1\n",
    "shifts = (directions * shift_amount[:, np.newaxis, np.newaxis]).ravel().reshape(-1, 2)\n",
    "shifts"
   ]
  },
  {
   "cell_type": "code",
   "execution_count": 14,
   "metadata": {
    "collapsed": true
   },
   "outputs": [],
   "source": [
    "def my_shift(arr, shift):\n",
    "    return interpolation.shift(arr.reshape((28, 28)), shift=shift).reshape(784)"
   ]
  },
  {
   "cell_type": "code",
   "execution_count": 15,
   "metadata": {
    "collapsed": true
   },
   "outputs": [],
   "source": [
    "cross_val_shifts = np.empty((len(shifts), len(cv)), dtype=float)\n",
    "for shift_num, shift in enumerate(shifts):\n",
    "    for split_num, split in enumerate(cv):\n",
    "        my_own = KNNClassifier()\n",
    "        my_own.fit(X_train[split[0]], y_train[split[0]])\n",
    "        kneighbors = my_own.find_kneighbors(X_train[split[1]])\n",
    "\n",
    "        my_own = KNNClassifier()\n",
    "        X_train_shifted = np.apply_along_axis(func1d=my_shift, axis=1, arr=X_train[split[0]], shift=shift)\n",
    "        my_own.fit(X_train_shifted, y_train[split[0]])\n",
    "        kneighbors_last = my_own.find_kneighbors(X_train[split[1]])\n",
    "        kneighbors = (np.hstack((kneighbors[0], kneighbors_last[0])),\n",
    "                      np.hstack((kneighbors[1], kneighbors_last[1])))\n",
    "        nearest_neighbors_pos = np.argpartition(kneighbors[0], np.arange(my_own.k), axis=1)[:, :my_own.k]\n",
    "        indices = np.where((nearest_neighbors_pos == nearest_neighbors_pos))\n",
    "        indices = (indices[0], nearest_neighbors_pos.ravel())\n",
    "        distances = kneighbors[0][indices].reshape(-1, my_own.k)\n",
    "        indices = kneighbors[1][indices].reshape(-1, my_own.k)\n",
    "        y_predicted = cross_validation.cross_val_predict(knn_classifier=my_own,\n",
    "                                                         num_of_classes=10,\n",
    "                                                         kneighbors=(distances, indices))\n",
    "        cross_val_shifts[shift_num][split_num] = np.mean(y_predicted == y_train[split[1]])"
   ]
  },
  {
   "cell_type": "code",
   "execution_count": 16,
   "metadata": {
    "collapsed": true
   },
   "outputs": [],
   "source": [
    "cross_val_baseline = cross_validation.knn_cross_val_score(X_train, y_train, k_list=[4])"
   ]
  },
  {
   "cell_type": "code",
   "execution_count": 17,
   "metadata": {},
   "outputs": [
    {
     "data": {
      "text/plain": [
       "array([[ 0.97499875,  0.97566438,  0.97538477],\n",
       "       [ 0.97680245,  0.97700806,  0.97613676],\n",
       "       [ 0.97655193,  0.97591321,  0.97613676]])"
      ]
     },
     "execution_count": 17,
     "metadata": {},
     "output_type": "execute_result"
    }
   ],
   "source": [
    "cross_val_gaussian"
   ]
  },
  {
   "cell_type": "code",
   "execution_count": 18,
   "metadata": {},
   "outputs": [
    {
     "data": {
      "text/plain": [
       "array([[ 0.97660203,  0.97740619,  0.97804181],\n",
       "       [ 0.97725337,  0.97810292,  0.97628716],\n",
       "       [ 0.97745378,  0.97770479,  0.97779115],\n",
       "       [ 0.97660203,  0.97735642,  0.97553517],\n",
       "       [ 0.9760008 ,  0.97616204,  0.97779115],\n",
       "       [ 0.97464803,  0.97491789,  0.97423171]])"
      ]
     },
     "execution_count": 18,
     "metadata": {},
     "output_type": "execute_result"
    }
   ],
   "source": [
    "cross_val_rotations"
   ]
  },
  {
   "cell_type": "code",
   "execution_count": 19,
   "metadata": {},
   "outputs": [
    {
     "data": {
      "text/plain": [
       "array([[ 0.97730347,  0.97626157,  0.97789141],\n",
       "       [ 0.97710306,  0.97710759,  0.97789141],\n",
       "       [ 0.97610101,  0.97631134,  0.97718955],\n",
       "       [ 0.97559998,  0.97641087,  0.97623703],\n",
       "       [ 0.97549977,  0.97586344,  0.97708929],\n",
       "       [ 0.97565008,  0.97521648,  0.97698902],\n",
       "       [ 0.97534947,  0.97516672,  0.97653783],\n",
       "       [ 0.97539957,  0.97466906,  0.9761869 ],\n",
       "       [ 0.97534947,  0.97541555,  0.97668822],\n",
       "       [ 0.97484844,  0.97442022,  0.97638743],\n",
       "       [ 0.97504885,  0.97427093,  0.97623703],\n",
       "       [ 0.97494864,  0.97481835,  0.97613676]])"
      ]
     },
     "execution_count": 19,
     "metadata": {},
     "output_type": "execute_result"
    }
   ],
   "source": [
    "cross_val_shifts"
   ]
  },
  {
   "cell_type": "markdown",
   "metadata": {},
   "source": [
    "#### Возьмём теперь комбинацию из лучших значений по каждому параметру и посчитаем accuracy на кросс-валидации"
   ]
  },
  {
   "cell_type": "code",
   "execution_count": 20,
   "metadata": {
    "collapsed": true
   },
   "outputs": [],
   "source": [
    "best_smooth = smooths[np.argmax(np.mean(cross_val_gaussian, axis=1))]\n",
    "best_rotation = rotations[np.argmax(np.mean(cross_val_rotations, axis=1))]\n",
    "best_shift = shifts[np.argmax(np.mean(cross_val_shifts, axis=1))]"
   ]
  },
  {
   "cell_type": "code",
   "execution_count": 21,
   "metadata": {},
   "outputs": [
    {
     "data": {
      "text/plain": [
       "1.0"
      ]
     },
     "execution_count": 21,
     "metadata": {},
     "output_type": "execute_result"
    }
   ],
   "source": [
    "best_smooth"
   ]
  },
  {
   "cell_type": "code",
   "execution_count": 22,
   "metadata": {},
   "outputs": [
    {
     "data": {
      "text/plain": [
       "10"
      ]
     },
     "execution_count": 22,
     "metadata": {},
     "output_type": "execute_result"
    }
   ],
   "source": [
    "best_rotation"
   ]
  },
  {
   "cell_type": "code",
   "execution_count": 23,
   "metadata": {},
   "outputs": [
    {
     "data": {
      "text/plain": [
       "array([0, 1])"
      ]
     },
     "execution_count": 23,
     "metadata": {},
     "output_type": "execute_result"
    }
   ],
   "source": [
    "best_shift"
   ]
  },
  {
   "cell_type": "code",
   "execution_count": 24,
   "metadata": {
    "collapsed": true
   },
   "outputs": [],
   "source": [
    "cross_val_result = np.empty(len(cv), dtype=float)\n",
    "for split_num, split in enumerate(cv):\n",
    "    my_own = KNNClassifier()\n",
    "    my_own.fit(X_train[split[0]], y_train[split[0]])\n",
    "    kneighbors = my_own.find_kneighbors(X_train[split[1]])\n",
    "\n",
    "    my_own = KNNClassifier()\n",
    "    X_train_rotated = np.apply_along_axis(func1d=my_rotate, axis=1, arr=X_train[split[0]], angle=best_rotation)\n",
    "    my_own.fit(X_train_rotated, y_train[split[0]])\n",
    "    kneighbors_last = my_own.find_kneighbors(X_train[split[1]])\n",
    "    kneighbors = (np.hstack((kneighbors[0], kneighbors_last[0])),\n",
    "                  np.hstack((kneighbors[1], kneighbors_last[1])))\n",
    "\n",
    "    X_train_smoothed = np.apply_along_axis(func1d=gaussian_filter, axis=1, arr=X_train[split[0]], sigma=best_smooth)\n",
    "    my_own.fit(X_train_smoothed, y_train[split[0]])\n",
    "    kneighbors_last = my_own.find_kneighbors(X_train[split[1]])\n",
    "    kneighbors = (np.hstack((kneighbors[0], kneighbors_last[0])),\n",
    "                  np.hstack((kneighbors[1], kneighbors_last[1])))\n",
    "\n",
    "    X_train_shifted = np.apply_along_axis(my_shift, axis=1, arr=X_train[split[0]], shift=best_shift)\n",
    "    my_own.fit(X_train_shifted, y_train[split[0]])\n",
    "    kneighbors_last = my_own.find_kneighbors(X_train[split[1]])\n",
    "    kneighbors = (np.hstack((kneighbors[0], kneighbors_last[0])),\n",
    "                  np.hstack((kneighbors[1], kneighbors_last[1])))\n",
    "\n",
    "    nearest_neighbors_pos = np.argpartition(kneighbors[0], np.arange(my_own.k), axis=1)[:, :my_own.k]\n",
    "    indices = np.where((nearest_neighbors_pos == nearest_neighbors_pos))\n",
    "    indices = (indices[0], nearest_neighbors_pos.ravel())\n",
    "    distances = kneighbors[0][indices].reshape(-1, my_own.k)\n",
    "    indices = kneighbors[1][indices].reshape(-1, my_own.k)\n",
    "    y_predicted = cross_validation.cross_val_predict(knn_classifier=my_own,\n",
    "                                                     num_of_classes=10,\n",
    "                                                     kneighbors=(distances, indices))\n",
    "    cross_val_result[split_num] = np.mean(y_predicted == y_train[split[1]])"
   ]
  },
  {
   "cell_type": "code",
   "execution_count": 25,
   "metadata": {},
   "outputs": [
    {
     "data": {
      "text/plain": [
       "array([ 0.98040984,  0.9797452 ,  0.98054845])"
      ]
     },
     "execution_count": 25,
     "metadata": {},
     "output_type": "execute_result"
    }
   ],
   "source": [
    "cross_val_result"
   ]
  },
  {
   "cell_type": "code",
   "execution_count": 19,
   "metadata": {
    "collapsed": true
   },
   "outputs": [],
   "source": [
    "best_rotation = 10\n",
    "best_smooth = 1.0\n",
    "best_shift = np.array([0, 1])"
   ]
  },
  {
   "cell_type": "code",
   "execution_count": 22,
   "metadata": {},
   "outputs": [],
   "source": [
    "my_own = KNNClassifier()\n",
    "my_own.fit(X_train, y_train)\n",
    "kneighbors = my_own.find_kneighbors(X_test)\n",
    "\n",
    "my_own = KNNClassifier()\n",
    "X_train_shifted = np.apply_along_axis(func1d=my_shift, axis=1, arr=X_train, shift=best_shift)\n",
    "my_own.fit(X_train_shifted, y_train)\n",
    "kneighbors_last = my_own.find_kneighbors(X_test)\n",
    "kneighbors = (np.hstack((kneighbors[0], kneighbors_last[0])),\n",
    "              np.hstack((kneighbors[1], kneighbors_last[1])))\n",
    "\n",
    "my_own = KNNClassifier()\n",
    "X_train_rotated = np.apply_along_axis(func1d=my_rotate, axis=1, arr=X_train, angle=best_rotation)\n",
    "my_own.fit(X_train_rotated, y_train)\n",
    "kneighbors_last = my_own.find_kneighbors(X_test)\n",
    "kneighbors = (np.hstack((kneighbors[0], kneighbors_last[0])),\n",
    "              np.hstack((kneighbors[1], kneighbors_last[1])))\n",
    "\n",
    "my_own = KNNClassifier()\n",
    "X_train_smoothed = np.apply_along_axis(func1d=gaussian_filter, axis=1, arr=X_train, sigma=best_smooth)\n",
    "my_own.fit(X_train_smoothed, y_train)\n",
    "kneighbors_last = my_own.find_kneighbors(X_test)\n",
    "kneighbors = (np.hstack((kneighbors[0], kneighbors_last[0])),\n",
    "              np.hstack((kneighbors[1], kneighbors_last[1])))\n",
    "\n",
    "\n",
    "nearest_neighbors_pos = np.argpartition(kneighbors[0], np.arange(my_own.k), axis=1)[:, :my_own.k]\n",
    "indices = np.where((nearest_neighbors_pos == nearest_neighbors_pos))\n",
    "indices = (indices[0], nearest_neighbors_pos.ravel())\n",
    "distances = kneighbors[0][indices].reshape(-1, my_own.k)\n",
    "indices = kneighbors[1][indices].reshape(-1, my_own.k)\n",
    "y_predicted = cross_validation.cross_val_predict(knn_classifier=my_own,\n",
    "                                                 num_of_classes=10,\n",
    "                                                 kneighbors=(distances, indices))\n",
    "accuracy = np.mean(y_predicted == y_test)"
   ]
  },
  {
   "cell_type": "code",
   "execution_count": 24,
   "metadata": {},
   "outputs": [
    {
     "data": {
      "text/plain": [
       "0.98080000000000001"
      ]
     },
     "execution_count": 24,
     "metadata": {},
     "output_type": "execute_result"
    }
   ],
   "source": [
    "accuracy"
   ]
  },
  {
   "cell_type": "code",
   "execution_count": 23,
   "metadata": {},
   "outputs": [
    {
     "data": {
      "image/png": "[encoded data removed]",
      "text/plain": [
       "<matplotlib.figure.Figure at 0x7f6556decb00>"
      ]
     },
     "metadata": {},
     "output_type": "display_data"
    }
   ],
   "source": [
    "cnf_matrix = confusion_matrix(y_test, y_predicted)\n",
    "\n",
    "fig, ax = plt.subplots()\n",
    "fig.set_figwidth(6)\n",
    "fig.set_figheight(6)\n",
    "\n",
    "plt.imshow(cnf_matrix, interpolation='nearest', cmap='Greys')\n",
    "plt.title('Confusion matrix', fontsize=16)\n",
    "plt.colorbar()\n",
    "\n",
    "plt.xticks(np.linspace(0, 9, 10), fontsize=15)\n",
    "plt.yticks(np.linspace(0, 9, 10), fontsize=15)\n",
    "\n",
    "fmt = 'd'\n",
    "thresh = cnf_matrix.max() / 2.\n",
    "for i, j in itertools.product(np.arange(cnf_matrix.shape[0]), np.arange(cnf_matrix.shape[1])):\n",
    "    plt.text(j, i, format(cnf_matrix[i, j], fmt),\n",
    "             horizontalalignment=\"center\",\n",
    "             color=\"white\" if cnf_matrix[i, j] > thresh else \"black\")\n",
    "\n",
    "plt.tight_layout()\n",
    "plt.xlabel('Predicted label', fontsize=12)\n",
    "plt.ylabel('True label')\n",
    "\n",
    "plt.savefig('conf_matrix.pdf')\n",
    "plt.show()"
   ]
  },
  {
   "cell_type": "code",
   "execution_count": 30,
   "metadata": {},
   "outputs": [
    {
     "data": {
      "image/png": "[encoded data removed]",
      "text/plain": [
       "<matplotlib.figure.Figure at 0x7f6573c56fd0>"
      ]
     },
     "metadata": {},
     "output_type": "display_data"
    }
   ],
   "source": [
    "mask = (y_test == 4) * (y_predicted == 9)\n",
    "num_of_digits = np.sum(mask)\n",
    "fig, ax = plt.subplots(3, 5, figsize=(25, 5))\n",
    "\n",
    "for i in range(num_of_digits):\n",
    "    ax[i // 5, i % 5].imshow(X_test[mask][i].reshape((28, 28)), cmap='Greys')\n",
    "\n",
    "fig.set_figwidth(20)\n",
    "fig.set_figheight(10)\n",
    "\n",
    "plt.savefig('digits_3.pdf')\n",
    "plt.show()"
   ]
  },
  {
   "cell_type": "markdown",
   "metadata": {},
   "source": [
    "### Эксперимент 6"
   ]
  },
  {
   "cell_type": "code",
   "execution_count": 5,
   "metadata": {
    "collapsed": true
   },
   "outputs": [],
   "source": [
    "def my_rotate(arr, angle):\n",
    "    return rotate(arr.reshape((28, 28)), angle=angle)[:784].reshape(784)"
   ]
  },
  {
   "cell_type": "code",
   "execution_count": 6,
   "metadata": {
    "collapsed": true
   },
   "outputs": [],
   "source": [
    "def my_shift(arr, shift):\n",
    "    return interpolation.shift(arr.reshape((28, 28)), shift=shift).reshape(784)"
   ]
  },
  {
   "cell_type": "code",
   "execution_count": 7,
   "metadata": {
    "collapsed": true
   },
   "outputs": [],
   "source": [
    "cv = cross_validation.kfold(X_train.shape[0])"
   ]
  },
  {
   "cell_type": "code",
   "execution_count": 8,
   "metadata": {
    "collapsed": true
   },
   "outputs": [],
   "source": [
    "rotations = [5, -5, 10, -10, 15, -15]"
   ]
  },
  {
   "cell_type": "code",
   "execution_count": 9,
   "metadata": {
    "collapsed": true
   },
   "outputs": [],
   "source": [
    "smooths = np.sqrt(np.array([0.5, 1, 1.5]))"
   ]
  },
  {
   "cell_type": "code",
   "execution_count": 10,
   "metadata": {
    "collapsed": true
   },
   "outputs": [],
   "source": [
    "directions = np.array([[1, 0], [0, 1], [-1, 0], [0, -1]])\n",
    "shift_amount = np.arange(3) + 1\n",
    "shifts = (directions * shift_amount[:, np.newaxis, np.newaxis]).ravel().reshape(-1, 2)"
   ]
  },
  {
   "cell_type": "code",
   "execution_count": 32,
   "metadata": {
    "collapsed": true
   },
   "outputs": [],
   "source": [
    "cross_val_shifts = np.empty((len(shifts), len(cv)), dtype=float)\n",
    "for shift_num, shift in enumerate(shifts):\n",
    "    for split_num, split in enumerate(cv):\n",
    "        my_own = KNNClassifier()\n",
    "        my_own.fit(X_train[split[0]], y_train[split[0]])\n",
    "        kneighbors = my_own.find_kneighbors(X_train[split[1]])\n",
    "\n",
    "        kneighbors_last = my_own.find_kneighbors(np.apply_along_axis(func1d=my_shift,\n",
    "                                                                     axis=1,\n",
    "                                                                     arr=X_train[split[1]],\n",
    "                                                                     shift=shift))\n",
    "        kneighbors = (np.hstack((kneighbors[0], kneighbors_last[0])),\n",
    "                      np.hstack((kneighbors[1], kneighbors_last[1])))\n",
    "        nearest_neighbors_pos = np.argpartition(kneighbors[0], np.arange(my_own.k), axis=1)[:, :my_own.k]\n",
    "        indices = np.where((nearest_neighbors_pos == nearest_neighbors_pos))\n",
    "        indices = (indices[0], nearest_neighbors_pos.ravel())\n",
    "        distances = kneighbors[0][indices].reshape(-1, my_own.k)\n",
    "        indices = kneighbors[1][indices].reshape(-1, my_own.k)\n",
    "        y_predicted = cross_validation.cross_val_predict(knn_classifier=my_own,\n",
    "                                                         num_of_classes=10,\n",
    "                                                         kneighbors=(distances, indices))\n",
    "        cross_val_shifts[shift_num][split_num] = np.mean(y_predicted == y_train[split[1]])"
   ]
  },
  {
   "cell_type": "code",
   "execution_count": 33,
   "metadata": {
    "collapsed": true
   },
   "outputs": [],
   "source": [
    "cross_val_rotations = np.empty((len(rotations), len(cv)), dtype=float)\n",
    "for rotation_num, rotation in enumerate(rotations):\n",
    "    for split_num, split in enumerate(cv):\n",
    "        my_own = KNNClassifier()\n",
    "        my_own.fit(X_train[split[0]], y_train[split[0]])\n",
    "        kneighbors = my_own.find_kneighbors(X_train[split[1]])\n",
    "\n",
    "        kneighbors_last = my_own.find_kneighbors(np.apply_along_axis(func1d=my_rotate,\n",
    "                                                                     axis=1,\n",
    "                                                                     arr=X_train[split[1]],\n",
    "                                                                     angle=rotation))\n",
    "        kneighbors = (np.hstack((kneighbors[0], kneighbors_last[0])),\n",
    "                      np.hstack((kneighbors[1], kneighbors_last[1])))\n",
    "        nearest_neighbors_pos = np.argpartition(kneighbors[0], np.arange(my_own.k), axis=1)[:, :my_own.k]\n",
    "        indices = np.where((nearest_neighbors_pos == nearest_neighbors_pos))\n",
    "        indices = (indices[0], nearest_neighbors_pos.ravel())\n",
    "        distances = kneighbors[0][indices].reshape(-1, my_own.k)\n",
    "        indices = kneighbors[1][indices].reshape(-1, my_own.k)\n",
    "        y_predicted = cross_validation.cross_val_predict(knn_classifier=my_own,\n",
    "                                                         num_of_classes=10,\n",
    "                                                         kneighbors=(distances, indices))\n",
    "        cross_val_rotations[rotation_num][split_num] = np.mean(y_predicted == y_train[split[1]])"
   ]
  },
  {
   "cell_type": "code",
   "execution_count": 34,
   "metadata": {
    "collapsed": true
   },
   "outputs": [],
   "source": [
    "cross_val_gaussian = np.empty((len(smooths), len(cv)), dtype=float)\n",
    "for smooth_num, smooth in enumerate(smooths):\n",
    "    for split_num, split in enumerate(cv):\n",
    "        my_own = KNNClassifier()\n",
    "        my_own.fit(X_train[split[0]], y_train[split[0]])\n",
    "        kneighbors = my_own.find_kneighbors(X_train[split[1]])\n",
    "\n",
    "        kneighbors_last = my_own.find_kneighbors(np.apply_along_axis(func1d=gaussian_filter,\n",
    "                                                                     axis=1,\n",
    "                                                                     arr=X_train[split[1]],\n",
    "                                                                     sigma=smooth))\n",
    "        kneighbors = (np.hstack((kneighbors[0], kneighbors_last[0])),\n",
    "                      np.hstack((kneighbors[1], kneighbors_last[1])))\n",
    "        nearest_neighbors_pos = np.argpartition(kneighbors[0], np.arange(my_own.k), axis=1)[:, :my_own.k]\n",
    "        indices = np.where((nearest_neighbors_pos == nearest_neighbors_pos))\n",
    "        indices = (indices[0], nearest_neighbors_pos.ravel())\n",
    "        distances = kneighbors[0][indices].reshape(-1, my_own.k)\n",
    "        indices = kneighbors[1][indices].reshape(-1, my_own.k)\n",
    "        y_predicted = cross_validation.cross_val_predict(knn_classifier=my_own,\n",
    "                                                         num_of_classes=10,\n",
    "                                                         kneighbors=(distances, indices))\n",
    "        cross_val_gaussian[smooth_num][split_num] = np.mean(y_predicted == y_train[split[1]])"
   ]
  },
  {
   "cell_type": "code",
   "execution_count": 35,
   "metadata": {
    "collapsed": true
   },
   "outputs": [],
   "source": [
    "cross_val_baseline = cross_validation.knn_cross_val_score(X_train, y_train, k_list=[4])"
   ]
  },
  {
   "cell_type": "code",
   "execution_count": 36,
   "metadata": {},
   "outputs": [
    {
     "data": {
      "text/plain": [
       "array([[ 0.97280314,  0.97308458,  0.9755098 ],\n",
       "       [ 0.97174744,  0.9721393 ,  0.97361056],\n",
       "       [ 0.96863061,  0.97      ,  0.97181128]])"
      ]
     },
     "execution_count": 36,
     "metadata": {},
     "output_type": "execute_result"
    }
   ],
   "source": [
    "cross_val_gaussian"
   ]
  },
  {
   "cell_type": "code",
   "execution_count": 32,
   "metadata": {},
   "outputs": [
    {
     "data": {
      "text/plain": [
       "array([ 0.97379917,  0.9724991 ,  0.9701473 ])"
      ]
     },
     "execution_count": 32,
     "metadata": {},
     "output_type": "execute_result"
    }
   ],
   "source": [
    "np.mean(cross_val_gaussian, axis=1)"
   ]
  },
  {
   "cell_type": "code",
   "execution_count": 37,
   "metadata": {},
   "outputs": [
    {
     "data": {
      "text/plain": [
       "array([[ 0.97612105,  0.97716418,  0.97990804],\n",
       "       [ 0.97571888,  0.97636816,  0.97685926],\n",
       "       [ 0.97702594,  0.97636816,  0.9790084 ],\n",
       "       [ 0.97742811,  0.97487562,  0.97930828],\n",
       "       [ 0.97561834,  0.97497512,  0.9770092 ],\n",
       "       [ 0.9751659 ,  0.97507463,  0.97695922],\n",
       "       [ 0.97617133,  0.97477612,  0.97665934],\n",
       "       [ 0.97556807,  0.97557214,  0.9772591 ],\n",
       "       [ 0.974814  ,  0.97442786,  0.97665934],\n",
       "       [ 0.97466318,  0.97447761,  0.97660936],\n",
       "       [ 0.97521617,  0.97477612,  0.97695922],\n",
       "       [ 0.974814  ,  0.97467662,  0.97615954]])"
      ]
     },
     "execution_count": 37,
     "metadata": {},
     "output_type": "execute_result"
    }
   ],
   "source": [
    "cross_val_shifts"
   ]
  },
  {
   "cell_type": "code",
   "execution_count": 37,
   "metadata": {},
   "outputs": [
    {
     "data": {
      "text/plain": [
       "array([ 0.97773109,  0.97631543,  0.9774675 ,  0.977204  ,  0.97586755,\n",
       "        0.97573325,  0.97586893,  0.9761331 ,  0.9753004 ,  0.97525005,\n",
       "        0.9756505 ,  0.97521672])"
      ]
     },
     "execution_count": 37,
     "metadata": {},
     "output_type": "execute_result"
    }
   ],
   "source": [
    "np.mean(cross_val_shifts, axis=1)"
   ]
  },
  {
   "cell_type": "code",
   "execution_count": 38,
   "metadata": {},
   "outputs": [
    {
     "data": {
      "text/plain": [
       "array([[ 0.97275287,  0.97298507,  0.97510996],\n",
       "       [ 0.9751659 ,  0.97348259,  0.97605958],\n",
       "       [ 0.97240097,  0.97308458,  0.97471012],\n",
       "       [ 0.97556807,  0.97368159,  0.97720912],\n",
       "       [ 0.96988739,  0.97064677,  0.97291084],\n",
       "       [ 0.97405992,  0.97223881,  0.97610956]])"
      ]
     },
     "execution_count": 38,
     "metadata": {},
     "output_type": "execute_result"
    }
   ],
   "source": [
    "cross_val_rotations"
   ]
  },
  {
   "cell_type": "code",
   "execution_count": 34,
   "metadata": {},
   "outputs": [
    {
     "data": {
      "text/plain": [
       "array([ 0.97361597,  0.97490269,  0.97339856,  0.97548626,  0.97114833,\n",
       "        0.9741361 ])"
      ]
     },
     "execution_count": 34,
     "metadata": {},
     "output_type": "execute_result"
    }
   ],
   "source": [
    "np.mean(cross_val_rotations, axis=1)"
   ]
  },
  {
   "cell_type": "code",
   "execution_count": 39,
   "metadata": {
    "collapsed": true
   },
   "outputs": [],
   "source": [
    "best_smooth = smooths[np.argmax(np.mean(cross_val_gaussian, axis=1))]\n",
    "best_rotation = rotations[np.argmax(np.mean(cross_val_rotations, axis=1))]\n",
    "best_shift = shifts[np.argmax(np.mean(cross_val_shifts, axis=1))]"
   ]
  },
  {
   "cell_type": "code",
   "execution_count": 40,
   "metadata": {},
   "outputs": [
    {
     "data": {
      "text/plain": [
       "0.7071067811865476"
      ]
     },
     "execution_count": 40,
     "metadata": {},
     "output_type": "execute_result"
    }
   ],
   "source": [
    "best_smooth"
   ]
  },
  {
   "cell_type": "code",
   "execution_count": 41,
   "metadata": {},
   "outputs": [
    {
     "data": {
      "text/plain": [
       "-10"
      ]
     },
     "execution_count": 41,
     "metadata": {},
     "output_type": "execute_result"
    }
   ],
   "source": [
    "best_rotation"
   ]
  },
  {
   "cell_type": "code",
   "execution_count": 42,
   "metadata": {},
   "outputs": [
    {
     "data": {
      "text/plain": [
       "array([1, 0])"
      ]
     },
     "execution_count": 42,
     "metadata": {},
     "output_type": "execute_result"
    }
   ],
   "source": [
    "best_shift"
   ]
  },
  {
   "cell_type": "code",
   "execution_count": 11,
   "metadata": {
    "collapsed": true
   },
   "outputs": [],
   "source": [
    "best_smooth = 0.7071067811865476\n",
    "best_rotation = -10\n",
    "best_shift = np.array([1, 0])"
   ]
  },
  {
   "cell_type": "code",
   "execution_count": 12,
   "metadata": {},
   "outputs": [],
   "source": [
    "cross_val_result = np.empty(len(cv), dtype=float)\n",
    "for split_num, split in enumerate(cv):\n",
    "    my_own = KNNClassifier()\n",
    "    my_own.fit(X_train[split[0]], y_train[split[0]])\n",
    "    kneighbors = my_own.find_kneighbors(X_train[split[1]])\n",
    "\n",
    "    kneighbors_last = my_own.find_kneighbors(np.apply_along_axis(func1d=my_rotate,\n",
    "                                                                 axis=1,\n",
    "                                                                 arr=X_train[split[1]],\n",
    "                                                                 angle=best_rotation))\n",
    "    kneighbors = (np.hstack((kneighbors[0], kneighbors_last[0])),\n",
    "                  np.hstack((kneighbors[1], kneighbors_last[1])))\n",
    "\n",
    "    kneighbors_last = my_own.find_kneighbors(np.apply_along_axis(func1d=my_shift,\n",
    "                                                                 axis=1,\n",
    "                                                                 arr=X_train[split[1]],\n",
    "                                                                 shift=best_shift))\n",
    "    kneighbors = (np.hstack((kneighbors[0], kneighbors_last[0])),\n",
    "                  np.hstack((kneighbors[1], kneighbors_last[1])))\n",
    "\n",
    "    nearest_neighbors_pos = np.argpartition(kneighbors[0], np.arange(my_own.k), axis=1)[:, :my_own.k]\n",
    "    indices = np.where((nearest_neighbors_pos == nearest_neighbors_pos))\n",
    "    indices = (indices[0], nearest_neighbors_pos.ravel())\n",
    "    distances = kneighbors[0][indices].reshape(-1, my_own.k)\n",
    "    indices = kneighbors[1][indices].reshape(-1, my_own.k)\n",
    "    y_predicted = cross_validation.cross_val_predict(knn_classifier=my_own,\n",
    "                                                     num_of_classes=10,\n",
    "                                                     kneighbors=(distances, indices))\n",
    "    cross_val_result[split_num] = np.mean(y_predicted == y_train[split[1]])"
   ]
  },
  {
   "cell_type": "code",
   "execution_count": 13,
   "metadata": {},
   "outputs": [
    {
     "data": {
      "text/plain": [
       "array([ 0.97746776,  0.97864222,  0.97546876])"
      ]
     },
     "execution_count": 13,
     "metadata": {},
     "output_type": "execute_result"
    }
   ],
   "source": [
    "cross_val_result"
   ]
  },
  {
   "cell_type": "markdown",
   "metadata": {},
   "source": [
    "#### Теперь обучимся и сделаем предсказание на тестовой выборке"
   ]
  },
  {
   "cell_type": "code",
   "execution_count": 39,
   "metadata": {
    "collapsed": true
   },
   "outputs": [],
   "source": [
    "good_shifts = shifts[np.mean(cross_val_shifts, axis=1) > cross_val_baseline]"
   ]
  },
  {
   "cell_type": "code",
   "execution_count": 44,
   "metadata": {},
   "outputs": [
    {
     "data": {
      "text/plain": [
       "array([[ 1,  0],\n",
       "       [ 0,  1],\n",
       "       [-1,  0],\n",
       "       [ 0, -1],\n",
       "       [ 2,  0],\n",
       "       [ 0,  2],\n",
       "       [-2,  0],\n",
       "       [ 0, -2],\n",
       "       [-3,  0]])"
      ]
     },
     "execution_count": 44,
     "metadata": {},
     "output_type": "execute_result"
    }
   ],
   "source": [
    "good_shifts"
   ]
  },
  {
   "cell_type": "code",
   "execution_count": 49,
   "metadata": {
    "collapsed": true
   },
   "outputs": [],
   "source": [
    "my_own = KNNClassifier()\n",
    "my_own.fit(X_train, y_train)\n",
    "kneighbors = my_own.find_kneighbors(X_test)\n",
    "for shift in good_shifts:\n",
    "    kneighbors_last = my_own.find_kneighbors(np.apply_along_axis(func1d=my_shift,\n",
    "                                                                 axis=1,\n",
    "                                                                 arr=X_test,\n",
    "                                                                 shift=shift))\n",
    "    kneighbors = (np.hstack((kneighbors[0], kneighbors_last[0])),\n",
    "                  np.hstack((kneighbors[1], kneighbors_last[1])))\n",
    "\n",
    "nearest_neighbors_pos = np.argpartition(kneighbors[0], np.arange(my_own.k), axis=1)[:, :my_own.k]\n",
    "indices = np.where((nearest_neighbors_pos == nearest_neighbors_pos))\n",
    "indices = (indices[0], nearest_neighbors_pos.ravel())\n",
    "distances = kneighbors[0][indices].reshape(-1, my_own.k)\n",
    "indices = kneighbors[1][indices].reshape(-1, my_own.k)\n",
    "y_predicted = cross_validation.cross_val_predict(knn_classifier=my_own,\n",
    "                                                 num_of_classes=10,\n",
    "                                                 kneighbors=(distances, indices))\n",
    "final_accuracy_1 = np.mean(y_predicted == y_test)"
   ]
  },
  {
   "cell_type": "code",
   "execution_count": 50,
   "metadata": {},
   "outputs": [
    {
     "data": {
      "text/plain": [
       "0.98040000000000005"
      ]
     },
     "execution_count": 50,
     "metadata": {},
     "output_type": "execute_result"
    }
   ],
   "source": [
    "final_accuracy_1"
   ]
  },
  {
   "cell_type": "code",
   "execution_count": 54,
   "metadata": {},
   "outputs": [],
   "source": [
    "my_own = KNNClassifier()\n",
    "my_own.fit(X_train, y_train)\n",
    "kneighbors = my_own.find_kneighbors(X_test)\n",
    "for shift in good_shifts:\n",
    "    kneighbors_last = my_own.find_kneighbors(np.apply_along_axis(func1d=my_shift,\n",
    "                                                                 axis=1,\n",
    "                                                                 arr=X_test,\n",
    "                                                                 shift=shift))\n",
    "    kneighbors = (np.hstack((kneighbors[0], kneighbors_last[0])),\n",
    "                  np.hstack((kneighbors[1], kneighbors_last[1])))\n",
    "    \n",
    "kneighbors_last = my_own.find_kneighbors(np.apply_along_axis(func1d=my_rotate,\n",
    "                                                             axis=1,\n",
    "                                                             arr=X_test,\n",
    "                                                             angle=best_rotation))\n",
    "kneighbors = (np.hstack((kneighbors[0], kneighbors_last[0])),\n",
    "              np.hstack((kneighbors[1], kneighbors_last[1])))\n",
    "\n",
    "nearest_neighbors_pos = np.argpartition(kneighbors[0], np.arange(my_own.k), axis=1)[:, :my_own.k]\n",
    "indices = np.where((nearest_neighbors_pos == nearest_neighbors_pos))\n",
    "indices = (indices[0], nearest_neighbors_pos.ravel())\n",
    "distances = kneighbors[0][indices].reshape(-1, my_own.k)\n",
    "indices = kneighbors[1][indices].reshape(-1, my_own.k)\n",
    "y_predicted = cross_validation.cross_val_predict(knn_classifier=my_own,\n",
    "                                                 num_of_classes=10,\n",
    "                                                 kneighbors=(distances, indices))\n",
    "final_accuracy_2 = np.mean(y_predicted == y_test)"
   ]
  },
  {
   "cell_type": "code",
   "execution_count": 47,
   "metadata": {},
   "outputs": [
    {
     "data": {
      "text/plain": [
       "0.98160000000000003"
      ]
     },
     "execution_count": 47,
     "metadata": {},
     "output_type": "execute_result"
    }
   ],
   "source": [
    "final_accuracy_2"
   ]
  },
  {
   "cell_type": "code",
   "execution_count": 57,
   "metadata": {},
   "outputs": [
    {
     "data": {
      "image/png": "[encoded data removed]",
      "text/plain": [
       "<matplotlib.figure.Figure at 0x7f6572a24a90>"
      ]
     },
     "metadata": {},
     "output_type": "display_data"
    }
   ],
   "source": [
    "cnf_matrix = confusion_matrix(y_test, y_predicted)\n",
    "\n",
    "fig, ax = plt.subplots()\n",
    "fig.set_figwidth(6)\n",
    "fig.set_figheight(6)\n",
    "\n",
    "plt.imshow(cnf_matrix, interpolation='nearest', cmap='Greys')\n",
    "plt.title('Confusion matrix of final prdeiction', fontsize=16)\n",
    "plt.colorbar()\n",
    "\n",
    "plt.xticks(np.linspace(0, 9, 10), fontsize=15)\n",
    "plt.yticks(np.linspace(0, 9, 10), fontsize=15)\n",
    "\n",
    "fmt = 'd'\n",
    "thresh = cnf_matrix.max() / 2.\n",
    "for i, j in itertools.product(np.arange(cnf_matrix.shape[0]), np.arange(cnf_matrix.shape[1])):\n",
    "    plt.text(j, i, format(cnf_matrix[i, j], fmt),\n",
    "             horizontalalignment=\"center\",\n",
    "             color=\"white\" if cnf_matrix[i, j] > thresh else \"black\")\n",
    "\n",
    "plt.tight_layout()\n",
    "plt.xlabel('Predicted label', fontsize=12)\n",
    "plt.ylabel('True label')\n",
    "\n",
    "plt.savefig('conf_matrix_3.pdf')\n",
    "plt.show()"
   ]
  },
  {
   "cell_type": "markdown",
   "metadata": {},
   "source": [
    "#### Плюсы подхода, основанного на проеобразовании объектов тестовой выборки:\n",
    "- Так как тестовая выборка намного меньше обучающей, засчёт чего экономится память\n",
    "- Так как часто плохо классифицируются именно объекты, имеющие деффекты, можно попытаться исправить эти деффекты с помощью различных преобразований, а не делать обучающую выборку деффектной и ожидать, что сильно улучшится качество"
   ]
  },
  {
   "cell_type": "code",
   "execution_count": null,
   "metadata": {
    "collapsed": true
   },
   "outputs": [],
   "source": []
  }
 ],
 "metadata": {
  "kernelspec": {
   "display_name": "Python 3",
   "language": "python",
   "name": "python3"
  },
  "language_info": {
   "codemirror_mode": {
    "name": "ipython",
    "version": 3
   },
   "file_extension": ".py",
   "mimetype": "text/x-python",
   "name": "python",
   "nbconvert_exporter": "python",
   "pygments_lexer": "ipython3",
   "version": "3.6.2"
  },
  "varInspector": {
   "cols": {
    "lenName": 16,
    "lenType": 16,
    "lenVar": 40
   },
   "kernels_config": {
    "python": {
     "delete_cmd_postfix": "",
     "delete_cmd_prefix": "del ",
     "library": "var_list.py",
     "varRefreshCmd": "print(var_dic_list())"
    },
    "r": {
     "delete_cmd_postfix": ") ",
     "delete_cmd_prefix": "rm(",
     "library": "var_list.r",
     "varRefreshCmd": "cat(var_dic_list()) "
    }
   },
   "types_to_exclude": [
    "module",
    "function",
    "builtin_function_or_method",
    "instance",
    "_Feature"
   ],
   "window_display": false
  }
 },
 "nbformat": 4,
 "nbformat_minor": 2
}
