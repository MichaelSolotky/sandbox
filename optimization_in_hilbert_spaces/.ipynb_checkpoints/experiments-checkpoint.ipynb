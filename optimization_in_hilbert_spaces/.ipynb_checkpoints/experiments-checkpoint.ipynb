{
 "cells": [
  {
   "cell_type": "code",
   "execution_count": 1,
   "metadata": {},
   "outputs": [],
   "source": [
    "import problems\n",
    "import solvers\n",
    "import numpy as np\n",
    "from importlib import reload\n",
    "reload(problems)\n",
    "reload(solvers)\n",
    "%matplotlib inline\n",
    "from matplotlib import pyplot as plt"
   ]
  },
  {
   "cell_type": "markdown",
   "metadata": {},
   "source": [
    "# $J(u) = a {\\lVert u \\rVert}^b + c <Du, u> + e <u, f> + g \\to \\inf\\limits_{{u \\in L_2[left, right]}}$\n",
    "# $J'(u) = a b {\\lVert u \\rVert}^{b - 2} u + c (D + D^*)u + e f$"
   ]
  },
  {
   "cell_type": "markdown",
   "metadata": {},
   "source": [
    "## метод градиентного спуска"
   ]
  },
  {
   "cell_type": "code",
   "execution_count": 2,
   "metadata": {},
   "outputs": [],
   "source": [
    "a=1.\n",
    "b=2\n",
    "c=0.\n",
    "e=1.\n",
    "g=0.\n",
    "left = 0.\n",
    "right = 10."
   ]
  },
  {
   "cell_type": "code",
   "execution_count": 3,
   "metadata": {},
   "outputs": [],
   "source": [
    "num_of_points = 10000\n",
    "max_iter = 2000\n",
    "step = 1e-3\n",
    "tol = 1e-4\n",
    "verbose = True\n",
    "mode = 'fastest'\n",
    "args = left + (right - left) * np.arange(num_of_points) / num_of_points"
   ]
  },
  {
   "cell_type": "code",
   "execution_count": 4,
   "metadata": {},
   "outputs": [],
   "source": [
    "optimizer = solvers.GradientDescent(num_of_points, max_iter, step, tol, verbose, mode)"
   ]
  },
  {
   "cell_type": "code",
   "execution_count": 5,
   "metadata": {},
   "outputs": [],
   "source": [
    "pr1 = problems.UnconditionalProblem(optimizer, left, right, a, b, c, e, g)"
   ]
  },
  {
   "cell_type": "code",
   "execution_count": 6,
   "metadata": {},
   "outputs": [],
   "source": [
    "def calc_f(x):\n",
    "    '''\n",
    "        return f(x)\n",
    "        f(x) and x are numpy arrays\n",
    "    '''\n",
    "    return np.sin(x)\n",
    "\n",
    "def apply_linear_operator(u):\n",
    "    '''\n",
    "        return Du\n",
    "        u is numpy array\n",
    "    '''\n",
    "    return u\n",
    "\n",
    "def apply_conjugate_operator(u):\n",
    "    '''\n",
    "        return D*(u)\n",
    "        u is numpy array\n",
    "    '''\n",
    "    return u"
   ]
  },
  {
   "cell_type": "code",
   "execution_count": 7,
   "metadata": {},
   "outputs": [],
   "source": [
    "pr1.calc_f = calc_f\n",
    "pr1.apply_linear_operator = apply_linear_operator\n",
    "pr1.apply_conjugate_operator = apply_conjugate_operator"
   ]
  },
  {
   "cell_type": "code",
   "execution_count": 8,
   "metadata": {},
   "outputs": [
    {
     "name": "stdout",
     "output_type": "stream",
     "text": [
      "iteration 1 \tnorm diff = 34.5384415685 \tfunctional = 0.0\n",
      "iteration 2 \tnorm diff = 0.0 \tfunctional = -0.119290394598\n"
     ]
    }
   ],
   "source": [
    "func = pr1.solve()"
   ]
  },
  {
   "cell_type": "code",
   "execution_count": 9,
   "metadata": {},
   "outputs": [],
   "source": [
    "correct_solution = -np.sin(args) / 2"
   ]
  },
  {
   "cell_type": "code",
   "execution_count": 10,
   "metadata": {},
   "outputs": [
    {
     "name": "stdout",
     "output_type": "stream",
     "text": [
      "my functional value = \t -0.119290394598\n",
      "minimal value = \t -0.119290394598\n"
     ]
    },
    {
     "data": {
      "image/png": "[encoded data removed]",
      "text/plain": [
       "<matplotlib.figure.Figure at 0x7f019af7f748>"
      ]
     },
     "metadata": {},
     "output_type": "display_data"
    }
   ],
   "source": [
    "plt.plot(args, func, label='found solution')\n",
    "plt.plot(args, correct_solution, label='correct solution')\n",
    "plt.grid()\n",
    "plt.legend()\n",
    "print('my functional value = \\t', pr1.calc_functional(func))\n",
    "print('minimal value = \\t', pr1.calc_functional(correct_solution))"
   ]
  },
  {
   "cell_type": "markdown",
   "metadata": {},
   "source": [
    "## Симплекс-метод"
   ]
  },
  {
   "cell_type": "markdown",
   "metadata": {},
   "source": [
    "# $\\begin{cases}\n",
    "    J(u) = <c, u> \\to \\sup \\\\\n",
    "    u \\geq 0 \\\\\n",
    "    Au \\leq b\n",
    "\\end{cases}$"
   ]
  },
  {
   "cell_type": "markdown",
   "metadata": {},
   "source": [
    "https://www.youtube.com/watch?v=tpEo85lS4-o"
   ]
  },
  {
   "cell_type": "code",
   "execution_count": 12,
   "metadata": {},
   "outputs": [],
   "source": [
    "A = np.array([[3, 4, 2, 1, 0, 0],\n",
    "              [4, 3, 3, 0, 1, 0],\n",
    "              [5, 3, 5, 0, 0, 1]])"
   ]
  },
  {
   "cell_type": "code",
   "execution_count": 13,
   "metadata": {},
   "outputs": [],
   "source": [
    "b = np.array([1020, 940, 1010])"
   ]
  },
  {
   "cell_type": "code",
   "execution_count": 14,
   "metadata": {},
   "outputs": [],
   "source": [
    "c = np.array([10, 12, 8, 0, 0, 0])"
   ]
  },
  {
   "cell_type": "code",
   "execution_count": 15,
   "metadata": {},
   "outputs": [],
   "source": [
    "optimizer = solvers.SimplexMethod()"
   ]
  },
  {
   "cell_type": "code",
   "execution_count": 16,
   "metadata": {},
   "outputs": [
    {
     "data": {
      "text/plain": [
       "array([   0.,  220.,   70.,    0.,   70.,    0.])"
      ]
     },
     "execution_count": 16,
     "metadata": {},
     "output_type": "execute_result"
    }
   ],
   "source": [
    "pr2 = problems.LinearProgramming(optimizer, A, b, c)\n",
    "pr2.solve()"
   ]
  },
  {
   "cell_type": "markdown",
   "metadata": {},
   "source": [
    "https://math.semestr.ru/simplex/simplex.php"
   ]
  },
  {
   "cell_type": "markdown",
   "metadata": {},
   "source": [
    "### $\\begin{cases}\n",
    "        F(X) = 3 x_1 + 5 x_2 + 4 x_3 \\to \\max \\\\\n",
    "        0.1 x_1 + 0.2 x_2 + 0.4 x_3 \\leq 1100 \\\\\n",
    "        0.05 x_1 + 0.02 x_2 - 0.02 x_3 \\leq 120 \\\\\n",
    "        3 x_1 + x_2 + 2 x_3 \\leq 8000\n",
    "\\end{cases}$"
   ]
  },
  {
   "cell_type": "markdown",
   "metadata": {},
   "source": [
    "### $\\begin{cases}\n",
    "        F(X) = 3 x_1 + 5 x_2 + 4 x_3 \\to \\max \\\\\n",
    "        0.1 x_1 + 0.2 x_2 + 0.4 x_3 + x_4 \\leq 1100 \\\\\n",
    "        0.05 x_1 + 0.02 x_2 - 0.02 x_3 + x_5 \\leq 120 \\\\\n",
    "        3 x_1 + x_2 + 2 x_3 + x_6 \\leq 8000\n",
    "\\end{cases}$"
   ]
  },
  {
   "cell_type": "code",
   "execution_count": 17,
   "metadata": {},
   "outputs": [],
   "source": [
    "A = np.array([[0.1,  0.2,  0.4,   1, 0, 0],\n",
    "              [0.05, 0.02, -0.02, 0, 1, 0],\n",
    "              [3,    1,    2,     0, 0, 1]])"
   ]
  },
  {
   "cell_type": "code",
   "execution_count": 18,
   "metadata": {},
   "outputs": [],
   "source": [
    "b = np.array([1100, 120, 8000])"
   ]
  },
  {
   "cell_type": "code",
   "execution_count": 19,
   "metadata": {},
   "outputs": [],
   "source": [
    "c = np.array([3, 5, 4, 0, 0, 0])"
   ]
  },
  {
   "cell_type": "code",
   "execution_count": 20,
   "metadata": {},
   "outputs": [
    {
     "data": {
      "text/plain": [
       "array([  250.,  5375.,     0.,     0.,     0.,  1875.])"
      ]
     },
     "execution_count": 20,
     "metadata": {},
     "output_type": "execute_result"
    }
   ],
   "source": [
    "pr2 = problems.LinearProgramming(optimizer, A, b, c)\n",
    "pr2.solve()"
   ]
  },
  {
   "cell_type": "code",
   "execution_count": null,
   "metadata": {},
   "outputs": [],
   "source": []
  }
 ],
 "metadata": {
  "kernelspec": {
   "display_name": "Python 3",
   "language": "python",
   "name": "python3"
  },
  "language_info": {
   "codemirror_mode": {
    "name": "ipython",
    "version": 3
   },
   "file_extension": ".py",
   "mimetype": "text/x-python",
   "name": "python",
   "nbconvert_exporter": "python",
   "pygments_lexer": "ipython3",
   "version": "3.6.3"
  }
 },
 "nbformat": 4,
 "nbformat_minor": 2
}
