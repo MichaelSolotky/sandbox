{
 "cells": [
  {
   "cell_type": "code",
   "execution_count": 17,
   "metadata": {},
   "outputs": [],
   "source": [
    "%matplotlib inline\n",
    "import matplotlib.pyplot as plt\n",
    "import numpy as np\n",
    "import time\n",
    "import torch, torch.nn as nn\n",
    "import torchvision\n",
    "\n",
    "from copy import copy\n",
    "from IPython import display\n",
    "from IPython.display import clear_output\n",
    "from PIL import Image\n",
    "from skimage import color, transform\n",
    "from sklearn.metrics import roc_auc_score\n",
    "from time import time, sleep\n",
    "from torch.utils.data import Dataset, DataLoader\n",
    "from torchvision import transforms\n",
    "from tqdm.notebook import tqdm"
   ]
  },
  {
   "cell_type": "code",
   "execution_count": 2,
   "metadata": {},
   "outputs": [],
   "source": [
    "device = 'cpu'"
   ]
  },
  {
   "cell_type": "code",
   "execution_count": 3,
   "metadata": {},
   "outputs": [],
   "source": [
    "fmnist_train_set = torchvision.datasets.FashionMNIST(\"./data_fmnist\", download=True,\n",
    "                                                     transform=transforms.Compose([transforms.ToTensor()]))\n",
    "fmnist_test_set = torchvision.datasets.FashionMNIST(\"./data_fmnist\", download=True, train=False,\n",
    "                                                    transform=transforms.Compose([transforms.ToTensor()]))\n",
    "fmnist_train_data = DataLoader(fmnist_train_set, batch_size=32)\n",
    "fmnist_test_data = DataLoader(fmnist_test_set, batch_size=32)"
   ]
  },
  {
   "cell_type": "code",
   "execution_count": 4,
   "metadata": {},
   "outputs": [],
   "source": [
    "mnist_train_set = torchvision.datasets.MNIST(\"./data_mnist\", download=True,\n",
    "                                             transform=transforms.Compose([transforms.ToTensor()]))\n",
    "mnist_test_set = torchvision.datasets.MNIST(\"./data_mnist\", download=True, train=False,\n",
    "                                            transform=transforms.Compose([transforms.ToTensor()]))\n",
    "mnist_train_data = DataLoader(mnist_train_set, batch_size=32)\n",
    "mnist_test_data = DataLoader(mnist_test_set, batch_size=32)"
   ]
  },
  {
   "cell_type": "code",
   "execution_count": 5,
   "metadata": {},
   "outputs": [],
   "source": [
    "class Autoencoder(nn.Module):\n",
    "    def __init__(self):\n",
    "        super(Autoencoder, self).__init__()\n",
    "        self.block_1_conv = nn.Conv2d(in_channels=1, out_channels=32, kernel_size=3, padding=1)\n",
    "        self.block_1_relu = nn.ReLU()\n",
    "        self.block_1_max_pool = nn.MaxPool2d(kernel_size=2, return_indices=True)\n",
    "\n",
    "        self.block_2_conv = nn.Conv2d(in_channels=32, out_channels=16, kernel_size=3, padding=1)\n",
    "        self.block_2_relu = nn.ReLU()\n",
    "        self.block_2_max_pool = nn.MaxPool2d(kernel_size=2, return_indices=True)\n",
    "        self.block_2_batch_norm = nn.BatchNorm2d(num_features=16)\n",
    "\n",
    "        self.block_3_max_unpool = nn.MaxUnpool2d(kernel_size=2)\n",
    "        self.block_3_relu = nn.ReLU()\n",
    "        self.block_3_deconv = nn.ConvTranspose2d(in_channels=16, out_channels=32, kernel_size=3, padding=1)\n",
    "        self.block_3_batch_norm = nn.BatchNorm2d(num_features=32)\n",
    "\n",
    "        self.block_4_max_unpool = nn.MaxUnpool2d(kernel_size=2)\n",
    "        self.block_4_relu = nn.ReLU()\n",
    "        self.block_4_deconv = nn.ConvTranspose2d(in_channels=32, out_channels=1, kernel_size=3, padding=1)\n",
    "\n",
    "    def forward(self, x):\n",
    "        x = self.block_1_conv(x)\n",
    "        x = self.block_1_relu(x)\n",
    "        x, ind_1 = self.block_1_max_pool(x)\n",
    "\n",
    "        x = self.block_2_conv(x)\n",
    "        x = self.block_2_relu(x)\n",
    "        x, ind_2 = self.block_2_max_pool(x)\n",
    "        x = self.block_2_batch_norm(x)\n",
    "\n",
    "        x = self.block_3_max_unpool(x, ind_2)\n",
    "        x = self.block_3_relu(x)\n",
    "        x = self.block_3_deconv(x)\n",
    "        x = self.block_3_batch_norm(x)\n",
    "\n",
    "        x = self.block_4_max_unpool(x, ind_1)\n",
    "        x = self.block_4_relu(x)\n",
    "        x = self.block_4_deconv(x)\n",
    "        return x"
   ]
  },
  {
   "cell_type": "code",
   "execution_count": 6,
   "metadata": {},
   "outputs": [],
   "source": [
    "def validate(autoencoder, data):\n",
    "    autoencoder.eval()\n",
    "    total_img = 0\n",
    "    loss = 0\n",
    "    for images, _ in tqdm(data):\n",
    "        with torch.no_grad():\n",
    "            # Transfering images and labels to GPU if available\n",
    "            images = images.to(device)\n",
    "            images = images.view(-1, 1, 28, 28)\n",
    "            total_img += len(images)\n",
    "            # Forward pass\n",
    "            loss += torch.nn.functional.mse_loss(images, autoencoder(images)).item()\n",
    "    return round(loss / total_img, 5)"
   ]
  },
  {
   "cell_type": "code",
   "execution_count": 7,
   "metadata": {},
   "outputs": [],
   "source": [
    "def plot_results(train_log, val_log, test_log):\n",
    "    clear_output(wait=True)\n",
    "    print(\"Epoch\", len(train_log))\n",
    "    print(\"Train loss:\\t\", train_log[-1])\n",
    "    print(\"Val loss:\\t\", val_log[-1])\n",
    "    print(\"Test loss:\\t\", test_log[-1])\n",
    "\n",
    "    f, (ax1, ax2) = plt.subplots(1, 2, figsize=(14, 5))\n",
    "    ax1.plot(train_log, label='train loss', c='b')\n",
    "    ax1.plot(val_log, label='val loss', c='r')\n",
    "    ax1.grid()\n",
    "    ax1.legend(loc='best')\n",
    "\n",
    "    ax2.plot(test_log, label='test_loss', c='g')\n",
    "    ax2.legend(loc='best')\n",
    "    ax2.grid()\n",
    "    plt.show()"
   ]
  },
  {
   "cell_type": "code",
   "execution_count": 8,
   "metadata": {},
   "outputs": [],
   "source": [
    "def cross_entroy_with_logits(y_pred_teacher, y_pred_student):\n",
    "    return -torch.sum(torch.exp(y_pred_teacher) * y_pred_student, dim=1).mean()"
   ]
  },
  {
   "cell_type": "code",
   "execution_count": 9,
   "metadata": {},
   "outputs": [],
   "source": [
    "def forward_kl(y_pred_student, y_pred_teacher):\n",
    "    return torch.sum(torch.exp(y_pred_teacher) * (y_pred_teacher - y_pred_student))"
   ]
  },
  {
   "cell_type": "code",
   "execution_count": 10,
   "metadata": {},
   "outputs": [],
   "source": [
    "def reverse_kl(y_pred_student, y_pred_teacher):\n",
    "    return torch.sum(torch.exp(y_pred_student) * (y_pred_student - y_pred_teacher))"
   ]
  },
  {
   "cell_type": "code",
   "execution_count": 11,
   "metadata": {},
   "outputs": [],
   "source": [
    "def symmetrized_kl(y_pred_student, y_pred_teacher):\n",
    "    return forward_kl(y_pred_student, y_pred_teacher) + revrse_kl(y_pred_student, y_pred_teacher)"
   ]
  },
  {
   "cell_type": "code",
   "execution_count": 12,
   "metadata": {},
   "outputs": [],
   "source": [
    "def train(autoencoder, optimizer, train_log, val_log, test_log, num_epochs=30, batch_size=32):\n",
    "    for epoch in range(num_epochs):\n",
    "        autoencoder.train()\n",
    "        for images, _ in tqdm(mnist_train_data):\n",
    "            # Transfering images and labels to GPU if available\n",
    "            images = images.to(device)\n",
    "            images = images.view(-1, 1, 28, 28)\n",
    "            # Forward pass\n",
    "            images_pred = autoencoder(images.to(device))\n",
    "            loss = torch.nn.functional.mse_loss(images, images_pred)\n",
    "            # Backward pass\n",
    "            loss.backward()\n",
    "            optimizer.step()\n",
    "            optimizer.zero_grad()\n",
    "\n",
    "        train_log.append(validate(autoencoder, mnist_train_data))\n",
    "        val_log.append(validate(autoencoder, mnist_test_data))\n",
    "        test_log.append(validate(autoencoder, fmnist_train_data))\n",
    "        plot_results(train_log, val_log, test_log)"
   ]
  },
  {
   "cell_type": "code",
   "execution_count": 13,
   "metadata": {},
   "outputs": [],
   "source": [
    "train_log = []\n",
    "val_log = []\n",
    "test_log = []"
   ]
  },
  {
   "cell_type": "code",
   "execution_count": 14,
   "metadata": {},
   "outputs": [],
   "source": [
    "autoencoder = Autoencoder().to(device)"
   ]
  },
  {
   "cell_type": "code",
   "execution_count": 15,
   "metadata": {},
   "outputs": [],
   "source": [
    "optimizer = torch.optim.Adam(autoencoder.parameters(), lr=0.0001)"
   ]
  },
  {
   "cell_type": "code",
   "execution_count": 16,
   "metadata": {},
   "outputs": [
    {
     "name": "stdout",
     "output_type": "stream",
     "text": [
      "Epoch 50\n",
      "Train loss:\t 5e-05\n",
      "Val loss:\t 5e-05\n",
      "Test loss:\t 0.00033\n"
     ]
    },
    {
     "data": {
      "image/png": "[encoded data removed]",
      "text/plain": [
       "<Figure size 1008x360 with 2 Axes>"
      ]
     },
     "metadata": {
      "needs_background": "light"
     },
     "output_type": "display_data"
    },
    {
     "name": "stdout",
     "output_type": "stream",
     "text": [
      "CPU times: user 5h 48min 10s, sys: 34min 17s, total: 6h 22min 28s\n",
      "Wall time: 3h 27min 50s\n"
     ]
    }
   ],
   "source": [
    "%%time\n",
    "train(autoencoder, optimizer, train_log, val_log, test_log, batch_size=32, num_epochs=50)"
   ]
  },
  {
   "cell_type": "code",
   "execution_count": 20,
   "metadata": {},
   "outputs": [],
   "source": [
    "def get_prediction_errors(autoencoder, data):\n",
    "    autoencoder.eval()\n",
    "    total_img = 0\n",
    "    loss = []\n",
    "    for images, _ in tqdm(data):\n",
    "        with torch.no_grad():\n",
    "            # Transfering images and labels to GPU if available\n",
    "            images = images.to(device)\n",
    "            images = images.view(-1, 1, 28, 28)\n",
    "            total_img += len(images)\n",
    "            # Forward pass\n",
    "            loss.append(torch.nn.functional.mse_loss(images, autoencoder(images)).item())\n",
    "    return loss"
   ]
  },
  {
   "cell_type": "code",
   "execution_count": 21,
   "metadata": {},
   "outputs": [
    {
     "data": {
      "application/vnd.jupyter.widget-view+json": {
       "model_id": "90b9acbdce6c4616b4d5653c01a23f72",
       "version_major": 2,
       "version_minor": 0
      },
      "text/plain": [
       "HBox(children=(IntProgress(value=0, max=60000), HTML(value='')))"
      ]
     },
     "metadata": {},
     "output_type": "display_data"
    },
    {
     "name": "stdout",
     "output_type": "stream",
     "text": [
      "\n"
     ]
    },
    {
     "data": {
      "application/vnd.jupyter.widget-view+json": {
       "model_id": "b8bdc34a02214824b66bb527585952b7",
       "version_major": 2,
       "version_minor": 0
      },
      "text/plain": [
       "HBox(children=(IntProgress(value=0, max=60000), HTML(value='')))"
      ]
     },
     "metadata": {},
     "output_type": "display_data"
    },
    {
     "name": "stdout",
     "output_type": "stream",
     "text": [
      "\n"
     ]
    }
   ],
   "source": [
    "fmnist_prediction_errors = get_prediction_errors(autoencoder, DataLoader(fmnist_train_set, batch_size=1))\n",
    "mnist_prediction_errors = get_prediction_errors(autoencoder, DataLoader(mnist_train_set, batch_size=1))"
   ]
  },
  {
   "cell_type": "code",
   "execution_count": 22,
   "metadata": {},
   "outputs": [],
   "source": [
    "y_true = [0] * len(mnist_prediction_errors) + [1] * len(fmnist_prediction_errors)\n",
    "y_pred = mnist_prediction_errors + fmnist_prediction_errors"
   ]
  },
  {
   "cell_type": "code",
   "execution_count": 24,
   "metadata": {},
   "outputs": [
    {
     "data": {
      "text/plain": [
       "0.9974190929166666"
      ]
     },
     "execution_count": 24,
     "metadata": {},
     "output_type": "execute_result"
    }
   ],
   "source": [
    "roc_auc_score(y_true, y_pred)"
   ]
  },
  {
   "cell_type": "code",
   "execution_count": null,
   "metadata": {},
   "outputs": [],
   "source": []
  },
  {
   "cell_type": "code",
   "execution_count": null,
   "metadata": {},
   "outputs": [],
   "source": []
  },
  {
   "cell_type": "code",
   "execution_count": null,
   "metadata": {},
   "outputs": [],
   "source": []
  }
 ],
 "metadata": {
  "kernelspec": {
   "display_name": "Python 3",
   "language": "python",
   "name": "python3"
  },
  "language_info": {
   "codemirror_mode": {
    "name": "ipython",
    "version": 3
   },
   "file_extension": ".py",
   "mimetype": "text/x-python",
   "name": "python",
   "nbconvert_exporter": "python",
   "pygments_lexer": "ipython3",
   "version": "3.7.3"
  }
 },
 "nbformat": 4,
 "nbformat_minor": 2
}
