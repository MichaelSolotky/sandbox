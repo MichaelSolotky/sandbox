{
 "cells": [
  {
   "cell_type": "markdown",
   "metadata": {
    "colab_type": "text",
    "id": "8KxW17ljMVbF"
   },
   "source": [
    "# Assignment 3"
   ]
  },
  {
   "cell_type": "markdown",
   "metadata": {
    "colab_type": "text",
    "id": "tsBLwpKdMVbH"
   },
   "source": [
    "# Variational Dropout Sparsifies Deep Neural Networks\n",
    "\n",
    "The Variational Dropout ( https://arxiv.org/abs/1506.02557 ) provides a Bayesian interpretation of conventional dropout procedure. Later it was shown that Variational Dropout can be used for model sparsification (Sparse VD), the effect can be achieved by via optimization of variational lower bound wrt individual dropout rates for every weight of the model ( https://arxiv.org/abs/1701.05369 ).\n",
    "\n",
    "#### Sparse VD\n",
    "\n",
    "Sparse VD model optimizes VLB $\\mathcal{L}(\\phi)$ with respect to parameters $\\phi$ of a variational approximation $q_\\phi(w)$:\n",
    "\n",
    "$$\\mathcal{L}(\\phi) =  L_\\mathcal{D}(\\phi) - D_{KL}(q_\\phi(w)\\,\\|\\,p(w)) \\to\\max_{\\phi\\in\\Phi}$$\n",
    "$$L_\\mathcal{D}(\\phi) = \\sum_{n=1}^N \\mathrm{E}_{q_\\phi(w)}[\\log p(y_n\\,|\\,x_n, w)],$$\n",
    "\n",
    "where $p(w)$ is the log-uniform prior distibution, the variational approxinmation $q_\\phi(w)$ is a fullly factorized gaussian, the likelihood $p(y\\,|\\,x, w)$ is defined by a neuralnework with parametrs $w$. The optimization is performed by stohasic optimization methods e.g., Adam, etc.\n",
    "\n",
    "For more convenience computing, the KL divergence is approximated as follows:\n",
    "\\begin{equation}\n",
    "\\begin{gathered}\n",
    "    -D_{KL}(q(w_{ij}\\,|\\,\\theta_{ij}, \\alpha_{ij})\\,\\|\\,p(w_{ij})) \\approx\n",
    "    \\\\\n",
    "    \\approx k_1\\sigma(k_2 + k_3\\log \\alpha_{ij})) - 0.5\\log(1+\\alpha_{ij}^{-1}) + \\mathrm{C}\n",
    "    \\label{eq:KL}\\\\\n",
    "    k_1=0.63576~~~~~k_2=1.87320~~~~~k_3=1.48695\n",
    "\\end{gathered}\n",
    "\\end{equation}\n",
    "\n",
    "**Note:** In the paper two parametrizations of q are used. The fist one is $\\phi_i=\\{\\mu_{i}, \\sigma_i\\}$ that means $w_{ij} \\sim N(w_{ij} | \\mu_{ij}, \\sigma^2_{ij})$ and the second one is $\\phi_{ij}=\\{\\mu_{ij}, \\alpha_{ij}\\}$ that means $w_{ij} \\sim N(w_{ij} | \\mu_{ij}, \\alpha_{ij}\\mu^2_{ij})$. This two parametrization are connected as $\\sigma^2_{ij} = \\alpha_{ij}\\mu^2_{ij}$. Do not be confused.\n",
    "\n",
    "\n",
    "# In this assignment:\n",
    "1. Implementation of fully-connected Sparse VD layer\n",
    "2. Training Lenet-300-100 on MNIST dataset\n",
    "3. Optional Research Assignment\n",
    "\n",
    "Additional information:\n",
    "- If you have a problem with importing logger, download logger.py and file to the same folder and run a notebook from it\n",
    "- You will need the following python packages: pytorch, numpy, sklearn, pylab (matplotlib), tabulate\n",
    "- If you have an urgent question or find a typo or a mistake, send it to ars.ashuha@gmail.com. The title should include \"BDL Assignment 3, 2018\""
   ]
  },
  {
   "cell_type": "code",
   "execution_count": 1,
   "metadata": {
    "colab": {},
    "colab_type": "code",
    "id": "KsimFopvMVbI",
    "scrolled": true
   },
   "outputs": [],
   "source": [
    "import math\n",
    "import torch\n",
    "import numpy as np\n",
    "\n",
    "import torch.nn as nn\n",
    "import torch.optim as optim\n",
    "import torch.nn.functional as F\n",
    "\n",
    "# I've coppied logger.py and renamed it to logger_.py to avoid conflicts with python site-package logger\n",
    "from logger_ import Logger\n",
    "from torch.nn import Parameter\n",
    "from torch.autograd import Variable\n",
    "from torchvision import datasets, transforms"
   ]
  },
  {
   "cell_type": "markdown",
   "metadata": {
    "colab_type": "text",
    "id": "dztg-5hDMVbM"
   },
   "source": [
    "## Implementation of  Sparse VD layer"
   ]
  },
  {
   "cell_type": "code",
   "execution_count": 2,
   "metadata": {
    "colab": {},
    "colab_type": "code",
    "id": "rskYuZWkMVbN"
   },
   "outputs": [],
   "source": [
    "class LinearSVDO(nn.Module):\n",
    "    def __init__(self, in_features, out_features, threshold, bias=True):\n",
    "        super(LinearSVDO, self).__init__()\n",
    "        \"\"\"\n",
    "            in_features: int, a number of input features\n",
    "            out_features: int, a number of neurons\n",
    "            threshold: float, a threshold for clipping weights\n",
    "        \"\"\"\n",
    "\n",
    "        self.in_features = in_features\n",
    "        self.out_features = out_features\n",
    "        self.threshold = threshold\n",
    "\n",
    "        # torch.nn.parameter.Parameter of size out_features x in_features\n",
    "        self.mu = torch.nn.Parameter(torch.zeros(out_features, in_features))\n",
    "\n",
    "        # torch.nn.parameter.Parameter of size out_features x in_features\n",
    "        self.log_sigma = torch.nn.Parameter(torch.zeros(out_features, in_features))\n",
    "\n",
    "        # torch.nn.parameter.Parameter of size 1 x out_features\n",
    "        self.bias = torch.nn.Parameter(torch.zeros(1, out_features))\n",
    "        self.log_alpha = torch.zeros(out_features, in_features)\n",
    "        self.reset_parameters()\n",
    "\n",
    "    def reset_parameters(self):\n",
    "        self.bias.data.zero_()\n",
    "        self.mu.data.normal_(0, 0.02)\n",
    "        self.log_sigma.data.fill_(-5)\n",
    "\n",
    "    def forward(self, x):\n",
    "        # x is a torch.Tensor of shape (?number_of_objects, in_features)\n",
    "        # log_alpha is a torch.Tensor of shape (out_features, in_features)\n",
    "        # Compute using self.log_sigma and self.mu\n",
    "        self.log_alpha = 2 * (self.log_sigma - torch.log(torch.abs(self.mu) + 1e-8))\n",
    "        # clipping for a numerical stability\n",
    "        self.log_alpha = torch.clamp(self.log_alpha, -10, 10)\n",
    "\n",
    "        if self.training:\n",
    "            # lrt_mean is a torch.Tensor of shape (x.shape[0], out_features)\n",
    "            # compute mean activation using LRT\n",
    "\n",
    "            lrt_mean = torch.mm(x, torch.transpose(self.mu, 0, 1)) + self.bias\n",
    "            # lrt_std is a torch.Tensor of shape (x.shape[0], out_features)\n",
    "            # compute std of activations unsig lrt,\n",
    "            # do not forget use torch.sqrt(x + 1e-8) instead of torch.sqrt(x)\n",
    "            lrt_var = torch.mm(x ** 2, torch.transpose(torch.exp(self.log_alpha) * self.mu ** 2, 0, 1))\n",
    "            lrt_std = torch.sqrt(lrt_var + 1e-8)\n",
    "\n",
    "            # eps is a torch.Tensor of shape (x.shape[0], out_features)\n",
    "            eps = torch.randn(x.shape[0], self.out_features) # sample of noise for reparametrization\n",
    "            return eps * lrt_std + lrt_mean # sample of activation\n",
    "\n",
    "        # compute the output of the layer\n",
    "        self.mask_nonzero_components_bin = self.log_alpha <= self.threshold\n",
    "        self.mask_nonzero_components_float = self.mask_nonzero_components_bin.type(torch.FloatTensor)\n",
    "        self.W = self.mu * self.mask_nonzero_components_float\n",
    "        out = torch.mm(x, torch.transpose(self.W, 0, 1)) + self.bias\n",
    "        # use weighs W = Eq = self.mu\n",
    "        # clip all weight with log_alpha > threshold\n",
    "        return out\n",
    "\n",
    "    def kl_reg(self):\n",
    "        k1, k2, k3 = torch.Tensor([0.63576]), torch.Tensor([1.8732]), torch.Tensor([1.48695])\n",
    "        # kl is a scalar torch.Tensor\n",
    "        # eval KL using the approximation\n",
    "        kl = 1 / 2 * (self.log_alpha - torch.log(1 + torch.exp(self.log_alpha)))\n",
    "        kl += k1 * torch.sigmoid(k2 + k3 * self.log_alpha)\n",
    "        return kl.sum()"
   ]
  },
  {
   "cell_type": "markdown",
   "metadata": {
    "colab_type": "text",
    "id": "-uo1Ur-MMVbQ"
   },
   "source": [
    "## Define LeNet-300-100"
   ]
  },
  {
   "cell_type": "code",
   "execution_count": 3,
   "metadata": {
    "colab": {},
    "colab_type": "code",
    "id": "9bZmsqU3MVbQ"
   },
   "outputs": [],
   "source": [
    "class Net(nn.Module):\n",
    "    def __init__(self, threshold):\n",
    "        super(Net, self).__init__()\n",
    "        self.fc1 = LinearSVDO(28*28, 300, threshold)\n",
    "        self.fc2 = LinearSVDO(300,   100, threshold)\n",
    "        self.fc3 = LinearSVDO(100,   10,  threshold)\n",
    "        self.threshold=threshold\n",
    "\n",
    "    def forward(self, x):\n",
    "        x = F.relu(self.fc1(x))\n",
    "        x = F.relu(self.fc2(x))\n",
    "        x = F.log_softmax(self.fc3(x), dim=1)\n",
    "        return x"
   ]
  },
  {
   "cell_type": "markdown",
   "metadata": {
    "colab_type": "text",
    "id": "H-0I5jarMVbT"
   },
   "source": [
    "## Function for loading MNIST"
   ]
  },
  {
   "cell_type": "code",
   "execution_count": 4,
   "metadata": {
    "colab": {},
    "colab_type": "code",
    "id": "2SjgqcgLMVbT"
   },
   "outputs": [],
   "source": [
    "def get_mnist(batch_size):\n",
    "    trsnform = transforms.Compose([transforms.ToTensor(), transforms.Normalize((0.1307,), (0.3081,))])\n",
    "    train_loader = torch.utils.data.DataLoader(\n",
    "        datasets.MNIST('../data', train=True, download=True,\n",
    "        transform=trsnform), batch_size=batch_size, shuffle=True)\n",
    "    test_loader = torch.utils.data.DataLoader(\n",
    "        datasets.MNIST('../data', train=False, download=True,\n",
    "        transform=trsnform), batch_size=batch_size, shuffle=True)\n",
    "\n",
    "    return train_loader, test_loader"
   ]
  },
  {
   "cell_type": "markdown",
   "metadata": {
    "colab_type": "text",
    "id": "1Jb8iFigMVbX"
   },
   "source": [
    "## Create SGVLB loss"
   ]
  },
  {
   "cell_type": "code",
   "execution_count": 5,
   "metadata": {
    "colab": {},
    "colab_type": "code",
    "id": "6-oQVbqXMVbY"
   },
   "outputs": [],
   "source": [
    "class SGVLB(nn.Module):\n",
    "    def __init__(self, net, train_size):\n",
    "        super(SGVLB, self).__init__()\n",
    "        self.train_size = train_size # int, the len of dataset\n",
    "        self.net = net # nn.Module\n",
    "        self.criterion = nn.CrossEntropyLoss()\n",
    "\n",
    "    def forward(self, input_x, target, kl_weight=1.0):\n",
    "        assert not target.requires_grad\n",
    "        kl = 0.0\n",
    "        for module in self.net.children():\n",
    "            if hasattr(module, 'kl_reg'):\n",
    "                kl = kl + module.kl_reg()\n",
    "\n",
    "        # a scalar torch.Tensor, SGVLB loss\n",
    "        sgvlb_loss = self.train_size * self.criterion(input_x, target).mean()\n",
    "        #sgvlb_loss = self.criterion(input_x, target).mean()\n",
    "        sgvlb_loss -= kl_weight * kl\n",
    "        return sgvlb_loss"
   ]
  },
  {
   "cell_type": "markdown",
   "metadata": {
    "colab_type": "text",
    "id": "1xwIkQdlMVba"
   },
   "source": [
    "## Define the model"
   ]
  },
  {
   "cell_type": "code",
   "execution_count": 6,
   "metadata": {
    "colab": {},
    "colab_type": "code",
    "id": "S7t1Me8eMVbb"
   },
   "outputs": [],
   "source": [
    "model = Net(threshold=3)\n",
    "optimizer = optim.Adam(model.parameters(), lr = 1e-3) # optimizer\n",
    "# decrease learning rate by torch.optim.lr_scheduler\n",
    "scheduler = optim.lr_scheduler.StepLR(optimizer, step_size=1, gamma=0.98, last_epoch=-1)\n",
    "\n",
    "fmt = {'tr_los': '3.1e', 'te_loss': '3.1e', 'sp_0': '.3f', 'sp_1': '.3f', 'lr': '3.1e', 'kl': '.2f'}\n",
    "logger = Logger('sparse_vd', fmt=fmt)\n",
    "\n",
    "train_loader, test_loader = get_mnist(batch_size=100)\n",
    "sgvlb = SGVLB(model, len(train_loader.dataset))"
   ]
  },
  {
   "cell_type": "markdown",
   "metadata": {
    "colab_type": "text",
    "id": "06mxgwp2MVbe"
   },
   "source": [
    "## Train the model"
   ]
  },
  {
   "cell_type": "code",
   "execution_count": 7,
   "metadata": {
    "scrolled": true
   },
   "outputs": [
    {
     "name": "stdout",
     "output_type": "stream",
     "text": [
      "  epoch    kl       lr    tr_los    tr_acc    te_loss    te_acc    sp_0    sp_1    sp_2\n",
      "-------  ----  -------  --------  --------  ---------  --------  ------  ------  ------\n",
      "      1  0.04  1.0e-03   2.0e+02      91.0    7.2e+01      96.0   0.369   0.162     0.1\n",
      "      2  0.06  9.8e-04   4.0e+01      96.5    1.6e+01      97.1   0.450   0.245     0.1\n",
      "      3  0.08  9.6e-04  -1.9e+01      97.3   -1.8e+01      96.7   0.544   0.319     0.1\n",
      "      4  0.10  9.4e-04  -6.7e+01      97.8   -7.0e+01      97.6   0.618   0.383     0.1\n",
      "      5  0.12  9.2e-04  -1.1e+02      97.9   -1.1e+02      97.9   0.700   0.445     0.1\n",
      "      6  0.14  9.0e-04  -1.5e+02      98.1   -1.5e+02      98.0   0.722   0.468     0.1\n",
      "      7  0.16  8.9e-04  -1.9e+02      98.2   -1.8e+02      98.0   0.749   0.492     0.1\n",
      "      8  0.18  8.7e-04  -2.2e+02      98.2   -2.2e+02      97.9   0.779   0.535     0.1\n",
      "      9  0.20  8.5e-04  -2.6e+02      98.3   -2.4e+02      97.8   0.783   0.527     0.1\n",
      "     10  0.22  8.3e-04  -2.9e+02      98.3   -2.8e+02      97.9   0.808   0.548     0.1\n",
      "     11  0.24  8.2e-04  -3.3e+02      98.4   -3.2e+02      97.9   0.825   0.569     0.1\n",
      "     12  0.26  8.0e-04  -3.6e+02      98.3   -3.6e+02      98.1   0.832   0.581     0.1\n",
      "     13  0.28  7.8e-04  -3.9e+02      98.4   -3.9e+02      98.2   0.837   0.594     0.1\n",
      "     14  0.30  7.7e-04  -4.2e+02      98.3   -4.2e+02      98.3   0.852   0.618     0.1\n",
      "     15  0.32  7.5e-04  -4.6e+02      98.4   -4.5e+02      98.3   0.855   0.622     0.1\n",
      "     16  0.34  7.4e-04  -4.9e+02      98.4   -4.9e+02      98.4   0.871   0.645     0.2\n",
      "     17  0.36  7.2e-04  -5.3e+02      98.4   -5.2e+02      98.2   0.871   0.653     0.1\n",
      "     18  0.38  7.1e-04  -5.6e+02      98.4   -5.6e+02      98.4   0.879   0.659     0.2\n",
      "     19  0.40  7.0e-04  -5.9e+02      98.4   -5.9e+02      98.3   0.880   0.663     0.2\n",
      "     20  0.42  6.8e-04  -6.3e+02      98.3   -6.2e+02      98.3   0.885   0.674     0.2\n",
      "     21  0.44  6.7e-04  -6.6e+02      98.4   -6.6e+02      98.4   0.895   0.698     0.2\n",
      "     22  0.46  6.5e-04  -6.9e+02      98.4   -6.9e+02      98.4   0.894   0.702     0.2\n",
      "     23  0.48  6.4e-04  -7.3e+02      98.3   -7.2e+02      98.4   0.900   0.709     0.2\n",
      "     24  0.50  6.3e-04  -7.6e+02      98.3   -7.6e+02      98.3   0.905   0.725     0.2\n",
      "     25  0.52  6.2e-04  -7.9e+02      98.4   -7.9e+02      98.5   0.910   0.738     0.2\n",
      "     26  0.54  6.0e-04  -8.3e+02      98.4   -8.2e+02      98.4   0.916   0.746     0.2\n",
      "     27  0.56  5.9e-04  -8.6e+02      98.4   -8.6e+02      98.4   0.917   0.756     0.2\n",
      "     28  0.58  5.8e-04  -8.9e+02      98.3   -8.9e+02      98.4   0.919   0.767     0.2\n",
      "     29  0.60  5.7e-04  -9.3e+02      98.3   -9.3e+02      98.4   0.921   0.772     0.2\n",
      "     30  0.62  5.6e-04  -9.6e+02      98.3   -9.6e+02      98.3   0.925   0.786     0.2\n",
      "     31  0.64  5.5e-04  -9.9e+02      98.2   -9.9e+02      98.4   0.928   0.792     0.2\n",
      "     32  0.66  5.3e-04  -1.0e+03      98.3   -1.0e+03      98.4   0.932   0.806     0.3\n",
      "     33  0.68  5.2e-04  -1.1e+03      98.3   -1.1e+03      98.5   0.932   0.803     0.3\n",
      "     34  0.70  5.1e-04  -1.1e+03      98.3   -1.1e+03      98.4   0.935   0.816     0.3\n",
      "     35  0.72  5.0e-04  -1.1e+03      98.2   -1.1e+03      98.5   0.936   0.819     0.3\n",
      "     36  0.74  4.9e-04  -1.2e+03      98.3   -1.2e+03      98.5   0.942   0.834     0.3\n",
      "     37  0.76  4.8e-04  -1.2e+03      98.2   -1.2e+03      98.3   0.942   0.838     0.3\n",
      "     38  0.78  4.7e-04  -1.2e+03      98.2   -1.2e+03      98.4   0.943   0.842     0.3\n",
      "     39  0.80  4.6e-04  -1.3e+03      98.3   -1.3e+03      98.5   0.944   0.849     0.3\n",
      "     40  0.82  4.5e-04  -1.3e+03      98.2   -1.3e+03      98.6   0.948   0.859     0.3\n",
      "     41  0.84  4.5e-04  -1.3e+03      98.1   -1.3e+03      98.4   0.947   0.857     0.3\n",
      "     42  0.86  4.4e-04  -1.4e+03      98.2   -1.4e+03      98.5   0.950   0.867     0.3\n",
      "     43  0.88  4.3e-04  -1.4e+03      98.2   -1.4e+03      98.5   0.950   0.871     0.3\n",
      "     44  0.90  4.2e-04  -1.4e+03      98.2   -1.4e+03      98.4   0.953   0.876     0.4\n",
      "     45  0.92  4.1e-04  -1.5e+03      98.1   -1.5e+03      98.5   0.953   0.880     0.4\n",
      "     46  0.94  4.0e-04  -1.5e+03      98.2   -1.5e+03      98.4   0.954   0.886     0.4\n",
      "     47  0.96  3.9e-04  -1.5e+03      98.2   -1.5e+03      98.5   0.956   0.888     0.4\n",
      "     48  0.98  3.9e-04  -1.6e+03      98.1   -1.6e+03      98.4   0.956   0.892     0.4\n",
      "     49  1.00  3.8e-04  -1.6e+03      98.2   -1.6e+03      98.5   0.958   0.897     0.4\n",
      "     50  1.00  3.7e-04  -1.6e+03      98.2   -1.6e+03      98.4   0.958   0.902     0.4\n",
      "     51  1.00  3.6e-04  -1.6e+03      98.2   -1.6e+03      98.5   0.958   0.902     0.4\n",
      "     52  1.00  3.6e-04  -1.6e+03      98.1   -1.6e+03      98.4   0.958   0.902     0.4\n",
      "     53  1.00  3.5e-04  -1.6e+03      98.2   -1.6e+03      98.4   0.960   0.907     0.4\n",
      "     54  1.00  3.4e-04  -1.6e+03      98.1   -1.6e+03      98.4   0.960   0.908     0.4\n",
      "     55  1.00  3.4e-04  -1.6e+03      98.1   -1.6e+03      98.4   0.959   0.906     0.4\n",
      "     56  1.00  3.3e-04  -1.6e+03      98.2   -1.6e+03      98.4   0.961   0.913     0.4\n",
      "     57  1.00  3.2e-04  -1.6e+03      98.2   -1.6e+03      98.4   0.961   0.912     0.4\n",
      "     58  1.00  3.2e-04  -1.6e+03      98.2   -1.6e+03      98.5   0.962   0.916     0.4\n",
      "     59  1.00  3.1e-04  -1.6e+03      98.2   -1.6e+03      98.5   0.962   0.914     0.4\n",
      "     60  1.00  3.0e-04  -1.6e+03      98.2   -1.6e+03      98.4   0.963   0.917     0.4\n",
      "     61  1.00  3.0e-04  -1.6e+03      98.1   -1.6e+03      98.5   0.962   0.916     0.5\n",
      "     62  1.00  2.9e-04  -1.6e+03      98.1   -1.6e+03      98.4   0.963   0.919     0.4\n",
      "     63  1.00  2.9e-04  -1.6e+03      98.1   -1.6e+03      98.5   0.963   0.920     0.5\n",
      "     64  1.00  2.8e-04  -1.6e+03      98.2   -1.6e+03      98.5   0.965   0.920     0.5\n",
      "     65  1.00  2.7e-04  -1.6e+03      98.2   -1.6e+03      98.5   0.965   0.923     0.5\n",
      "     66  1.00  2.7e-04  -1.6e+03      98.3   -1.6e+03      98.5   0.966   0.924     0.5\n",
      "     67  1.00  2.6e-04  -1.6e+03      98.3   -1.6e+03      98.5   0.966   0.925     0.5\n",
      "     68  1.00  2.6e-04  -1.6e+03      98.2   -1.6e+03      98.4   0.966   0.926     0.5\n",
      "     69  1.00  2.5e-04  -1.6e+03      98.2   -1.6e+03      98.4   0.966   0.927     0.5\n",
      "     70  1.00  2.5e-04  -1.6e+03      98.2   -1.6e+03      98.5   0.967   0.928     0.5\n",
      "     71  1.00  2.4e-04  -1.6e+03      98.3   -1.6e+03      98.5   0.967   0.931     0.5\n",
      "     72  1.00  2.4e-04  -1.6e+03      98.2   -1.6e+03      98.4   0.967   0.930     0.5\n",
      "     73  1.00  2.3e-04  -1.6e+03      98.3   -1.6e+03      98.5   0.968   0.933     0.5\n",
      "     74  1.00  2.3e-04  -1.6e+03      98.2   -1.6e+03      98.4   0.968   0.932     0.5\n",
      "     75  1.00  2.2e-04  -1.6e+03      98.2   -1.6e+03      98.4   0.967   0.932     0.5\n",
      "     76  1.00  2.2e-04  -1.6e+03      98.3   -1.6e+03      98.5   0.968   0.935     0.5\n",
      "     77  1.00  2.2e-04  -1.6e+03      98.2   -1.6e+03      98.5   0.968   0.936     0.5\n",
      "     78  1.00  2.1e-04  -1.6e+03      98.3   -1.6e+03      98.5   0.969   0.937     0.5\n",
      "     79  1.00  2.1e-04  -1.6e+03      98.3   -1.6e+03      98.5   0.969   0.935     0.5\n",
      "     80  1.00  2.0e-04  -1.6e+03      98.2   -1.6e+03      98.4   0.969   0.935     0.5\n",
      "     81  1.00  2.0e-04  -1.6e+03      98.3   -1.6e+03      98.5   0.970   0.938     0.5\n",
      "     82  1.00  1.9e-04  -1.6e+03      98.3   -1.6e+03      98.5   0.970   0.939     0.5\n",
      "     83  1.00  1.9e-04  -1.6e+03      98.2   -1.6e+03      98.4   0.970   0.939     0.6\n",
      "     84  1.00  1.9e-04  -1.6e+03      98.3   -1.6e+03      98.5   0.970   0.939     0.6\n",
      "     85  1.00  1.8e-04  -1.6e+03      98.3   -1.6e+03      98.4   0.970   0.942     0.5\n",
      "     86  1.00  1.8e-04  -1.6e+03      98.4   -1.6e+03      98.5   0.971   0.943     0.6\n",
      "     87  1.00  1.8e-04  -1.6e+03      98.4   -1.6e+03      98.5   0.971   0.943     0.6\n",
      "     88  1.00  1.7e-04  -1.6e+03      98.3   -1.6e+03      98.4   0.971   0.945     0.5\n",
      "     89  1.00  1.7e-04  -1.6e+03      98.3   -1.6e+03      98.4   0.971   0.944     0.6\n",
      "     90  1.00  1.7e-04  -1.6e+03      98.3   -1.6e+03      98.5   0.972   0.946     0.6\n",
      "     91  1.00  1.6e-04  -1.6e+03      98.3   -1.6e+03      98.5   0.972   0.945     0.5\n",
      "     92  1.00  1.6e-04  -1.6e+03      98.3   -1.6e+03      98.4   0.972   0.944     0.6\n"
     ]
    },
    {
     "name": "stdout",
     "output_type": "stream",
     "text": [
      "     93  1.00  1.6e-04  -1.6e+03      98.3   -1.6e+03      98.5   0.972   0.947     0.6\n",
      "     94  1.00  1.5e-04  -1.6e+03      98.4   -1.6e+03      98.5   0.972   0.946     0.6\n",
      "     95  1.00  1.5e-04  -1.6e+03      98.3   -1.6e+03      98.5   0.972   0.947     0.6\n",
      "     96  1.00  1.5e-04  -1.6e+03      98.3   -1.6e+03      98.4   0.972   0.949     0.6\n",
      "     97  1.00  1.4e-04  -1.6e+03      98.3   -1.6e+03      98.5   0.972   0.946     0.6\n",
      "     98  1.00  1.4e-04  -1.6e+03      98.3   -1.6e+03      98.5   0.972   0.949     0.6\n",
      "     99  1.00  1.4e-04  -1.6e+03      98.4   -1.6e+03      98.4   0.973   0.949     0.6\n",
      "    100  1.00  1.4e-04  -1.6e+03      98.3   -1.6e+03      98.4   0.973   0.949     0.6\n",
      "CPU times: user 30min 57s, sys: 57.6 s, total: 31min 55s\n",
      "Wall time: 29min 47s\n"
     ]
    }
   ],
   "source": [
    "%%time\n",
    "kl_weight = 0.02\n",
    "epochs = 100\n",
    "\n",
    "for epoch in range(1, epochs + 1):\n",
    "    scheduler.step()\n",
    "    model.train()\n",
    "    train_loss, train_acc = 0, 0 \n",
    "    kl_weight = min(kl_weight + 0.02, 1.)\n",
    "    logger.add_scalar(epoch, 'kl', kl_weight)\n",
    "    logger.add_scalar(epoch, 'lr', scheduler.get_lr()[0])\n",
    "    for batch_idx, (data, target) in enumerate(train_loader):\n",
    "        data = data.view(-1, 28*28)\n",
    "        optimizer.zero_grad()\n",
    "\n",
    "        output = model(data)\n",
    "        pred = output.data.max(1)[1]\n",
    "        loss = sgvlb(output, target, kl_weight)\n",
    "        loss.backward()\n",
    "        optimizer.step()\n",
    "\n",
    "        train_loss += float(loss) \n",
    "        train_acc += np.sum(pred.numpy() == target.data.numpy())\n",
    "\n",
    "    logger.add_scalar(epoch, 'tr_los', train_loss / len(train_loader.dataset))\n",
    "    logger.add_scalar(epoch, 'tr_acc', train_acc / len(train_loader.dataset) * 100)\n",
    "\n",
    "    model.eval()\n",
    "    test_loss, test_acc = 0, 0\n",
    "    for batch_idx, (data, target) in enumerate(test_loader):\n",
    "        data = data.view(-1, 28*28)\n",
    "        output = model(data)\n",
    "        test_loss += float(sgvlb(output, target, kl_weight))\n",
    "        pred = output.data.max(1)[1] \n",
    "        test_acc += np.sum(pred.numpy() == target.data.numpy())\n",
    "\n",
    "    logger.add_scalar(epoch, 'te_loss', test_loss / len(test_loader.dataset))\n",
    "    logger.add_scalar(epoch, 'te_acc', test_acc / len(test_loader.dataset) * 100)\n",
    "\n",
    "    for i, c in enumerate(model.children()):\n",
    "        if hasattr(c, 'kl_reg'):\n",
    "            logger.add_scalar(epoch, 'sp_%s' % i, (c.log_alpha.data.numpy() > model.threshold).mean())\n",
    "\n",
    "    logger.iter_info()"
   ]
  },
  {
   "cell_type": "code",
   "execution_count": 8,
   "metadata": {
    "colab": {},
    "colab_type": "code",
    "id": "s9BYVKxAMVbj"
   },
   "outputs": [
    {
     "name": "stdout",
     "output_type": "stream",
     "text": [
      "compression_ratio = 31.81546551930202\n"
     ]
    }
   ],
   "source": [
    "all_w, kep_w = 0, 0\n",
    "\n",
    "for c in model.children():\n",
    "    kep_w += (c.log_alpha.data.numpy() < model.threshold).sum()\n",
    "    all_w += c.log_alpha.data.numpy().size\n",
    "\n",
    "# compression_ratio shold be > 30\n",
    "compression_ratio = all_w / kep_w\n",
    "print('compression_ratio =', compression_ratio)\n",
    "assert compression_ratio > 30"
   ]
  },
  {
   "cell_type": "markdown",
   "metadata": {
    "colab_type": "text",
    "id": "WGpOF9mzMVbl"
   },
   "source": [
    "## Disk space"
   ]
  },
  {
   "cell_type": "code",
   "execution_count": 9,
   "metadata": {
    "colab": {},
    "colab_type": "code",
    "id": "BjUuLQTQMVbl"
   },
   "outputs": [],
   "source": [
    "import scipy\n",
    "import numpy as np\n",
    "from scipy.sparse import csc_matrix, csc_matrix, coo_matrix, dok_matrix\n",
    "\n",
    "row, col, data = [], [], []\n",
    "M = list(model.children())[0].W.data.numpy()\n",
    "LA = list(model.children())[0].log_alpha.data.numpy()\n",
    "\n",
    "for i in range(300):\n",
    "    for j in range(28*28):\n",
    "        if LA[i, j] < 3:\n",
    "            row += [i]\n",
    "            col += [j]\n",
    "            data += [M[i, j]]\n",
    "\n",
    "Mcsr = csc_matrix((data, (row, col)), shape=(300, 28*28))\n",
    "Mcsc = csc_matrix((data, (row, col)), shape=(300, 28*28))\n",
    "Mcoo = coo_matrix((data, (row, col)), shape=(300, 28*28))"
   ]
  },
  {
   "cell_type": "code",
   "execution_count": 10,
   "metadata": {
    "colab": {},
    "colab_type": "code",
    "id": "ZzWIiMr3MVbn"
   },
   "outputs": [],
   "source": [
    "np.savez_compressed('M_w', M)\n",
    "scipy.sparse.save_npz('Mcsr_w', Mcsr)\n",
    "scipy.sparse.save_npz('Mcsc_w', Mcsc)\n",
    "scipy.sparse.save_npz('Mcoo_w', Mcoo)"
   ]
  },
  {
   "cell_type": "code",
   "execution_count": 11,
   "metadata": {
    "colab": {},
    "colab_type": "code",
    "id": "HojA6M4_MVbp"
   },
   "outputs": [
    {
     "name": "stdout",
     "output_type": "stream",
     "text": [
      "-rw-r--r--   1 michaelsolotky  staff    86K Apr  2 23:11 M_w.npz\r\n",
      "-rw-r--r--   1 michaelsolotky  staff    32K Apr  2 23:11 Mcoo_w.npz\r\n",
      "-rw-r--r--   1 michaelsolotky  staff    31K Apr  2 23:11 Mcsc_w.npz\r\n",
      "-rw-r--r--   1 michaelsolotky  staff    31K Apr  2 23:11 Mcsr_w.npz\r\n"
     ]
    }
   ],
   "source": [
    "!ls -lah | grep .npz"
   ]
  },
  {
   "cell_type": "markdown",
   "metadata": {
    "colab_type": "text",
    "id": "IXtYpKL7MVbs"
   },
   "source": [
    "## Visualization"
   ]
  },
  {
   "cell_type": "code",
   "execution_count": 12,
   "metadata": {
    "colab": {},
    "colab_type": "code",
    "id": "MahGlBp_MVbt"
   },
   "outputs": [
    {
     "data": {
      "text/plain": [
       "<matplotlib.colorbar.Colorbar at 0x11941db70>"
      ]
     },
     "execution_count": 12,
     "metadata": {},
     "output_type": "execute_result"
    },
    {
     "data": {
      "image/png": "[encoded data removed]",
      "text/plain": [
       "<Figure size 4800x900 with 2 Axes>"
      ]
     },
     "metadata": {
      "needs_background": "light"
     },
     "output_type": "display_data"
    }
   ],
   "source": [
    "import matplotlib.pyplot as plt\n",
    "%matplotlib inline\n",
    "\n",
    "from matplotlib import rcParams\n",
    "rcParams['figure.figsize'] = 16, 3\n",
    "rcParams['figure.dpi'] = 300\n",
    "\n",
    "\n",
    "log_alpha = (model.fc1.log_alpha.detach().numpy() < 3).astype(np.float)\n",
    "W = model.fc1.W.detach().numpy()\n",
    "\n",
    "plt.imshow(log_alpha * W, cmap='hot', interpolation=None)\n",
    "plt.colorbar()"
   ]
  },
  {
   "cell_type": "code",
   "execution_count": 13,
   "metadata": {
    "colab": {},
    "colab_type": "code",
    "id": "RdKgBhs-MVbv"
   },
   "outputs": [
    {
     "data": {
      "text/plain": [
       "(-0.5, 419.5, 419.5, -0.5)"
      ]
     },
     "execution_count": 13,
     "metadata": {},
     "output_type": "execute_result"
    },
    {
     "data": {
      "image/png": "[encoded data removed]",
      "text/plain": [
       "<Figure size 576x360 with 2 Axes>"
      ]
     },
     "metadata": {
      "needs_background": "light"
     },
     "output_type": "display_data"
    }
   ],
   "source": [
    "s = 0\n",
    "from matplotlib import rcParams\n",
    "rcParams['figure.figsize'] = 8, 5\n",
    "\n",
    "z = np.zeros((28*15, 28*15))\n",
    "\n",
    "for i in range(15):\n",
    "    for j in range(15):\n",
    "        s += 1\n",
    "        z[i*28:(i+1)*28, j*28:(j+1)*28] =  np.abs((log_alpha * W)[s].reshape(28, 28))\n",
    "        \n",
    "plt.imshow(z, cmap='hot_r')\n",
    "plt.colorbar()\n",
    "plt.axis('off')"
   ]
  },
  {
   "cell_type": "markdown",
   "metadata": {
    "colab_type": "text",
    "id": "aHJdsdqAMVby"
   },
   "source": [
    "# Optional Research Assignment (up to 2 points)"
   ]
  },
  {
   "cell_type": "markdown",
   "metadata": {
    "colab_type": "text",
    "id": "cN8tSaevMVbz"
   },
   "source": [
    "1. Study the model: \n",
    "    - How sparsity and accuracy depend on maximum of KL-multiplier (kl_weight)?\n",
    "    - How quality depends on the initialization of log_sigma (log_sigma)?\n",
    "    - Study the KL approximation: what if we use the reparametrization trick to obtain an unbiased MC estimate of KL?\n",
    "2. Compression:\n",
    "    - What can we do to obtain better compression results with small quality degradation?\n",
    "    - Propose and eval several options.\n",
    "3. Study the Local reparametrization trick: \n",
    "    - Does it really accelerate convergence?\n",
    "    - Does variance of gradient decrease?\n",
    "    \n",
    "You can do one out of three parts. You need to provide evidence for results e.g., plots, etc."
   ]
  },
  {
   "cell_type": "code",
   "execution_count": null,
   "metadata": {
    "colab": {},
    "colab_type": "code",
    "id": "4jNY6wg6MVb0"
   },
   "outputs": [],
   "source": []
  }
 ],
 "metadata": {
  "colab": {
   "collapsed_sections": [],
   "name": "SparseVD-assignment.ipynb",
   "provenance": [],
   "version": "0.3.2"
  },
  "kernelspec": {
   "display_name": "Python 3",
   "language": "python",
   "name": "python3"
  },
  "language_info": {
   "codemirror_mode": {
    "name": "ipython",
    "version": 3
   },
   "file_extension": ".py",
   "mimetype": "text/x-python",
   "name": "python",
   "nbconvert_exporter": "python",
   "pygments_lexer": "ipython3",
   "version": "3.7.2"
  }
 },
 "nbformat": 4,
 "nbformat_minor": 1
}
